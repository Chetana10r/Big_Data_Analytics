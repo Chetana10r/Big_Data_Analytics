{
 "cells": [
  {
   "cell_type": "markdown",
   "id": "ff0c91f6",
   "metadata": {},
   "source": [
    "# 📝 PySpark Streaming Assignment: Real-Time Sentiment Analysis of Tweets"
   ]
  },
  {
   "cell_type": "markdown",
   "id": "f562aa81",
   "metadata": {},
   "source": [
    "## 🎯 Objective\n",
    "Use PySpark Structured Streaming to read live tweets from a socket/text stream, perform basic sentiment analysis, and display the results in real-time."
   ]
  },
  {
   "cell_type": "markdown",
   "id": "ef9928f3",
   "metadata": {},
   "source": [
    "## 📦 Dataset Source\n",
    "Simulated tweet stream using Netcat (`nc`) or a text file streamed via socket."
   ]
  },
  {
   "cell_type": "markdown",
   "id": "734a987a",
   "metadata": {},
   "source": [
    "## 🧪 Tasks\n",
    "1. **Set Up Streaming Source**: Use SparkSession to read streaming data from a socket.\n",
    "2. **Preprocess Tweets**: Remove punctuation and convert text to lowercase. Tokenize the tweet text.\n",
    "3. **Perform Sentiment Analysis**: Use a simple keyword-based approach to classify tweets as Positive, Negative, or Neutral.\n",
    "4. **Display Results**: Show tweet text and its sentiment classification in the console.\n",
    "5. **Save Results**: Write the output to a CSV file or memory sink."
   ]
  },
  {
   "cell_type": "markdown",
   "id": "0ff6032b",
   "metadata": {},
   "source": [
    "## 📚 Learning Outcomes\n",
    "- Understand Spark Structured Streaming.\n",
    "- Apply UDFs in streaming pipelines.\n",
    "- Perform basic NLP tasks in real-time.\n",
    "- Handle socket-based data ingestion."
   ]
  },
  {
   "cell_type": "code",
   "execution_count": null,
   "id": "54e1a6a7-b842-4378-9f20-9d37bf2db40e",
   "metadata": {},
   "outputs": [],
   "source": [
    "from pyspark.sql import SparkSession\n",
    "from pyspark.sql.functions import col, udf\n",
    "from pyspark.sql.types import StringType\n",
    "\n",
    "# Start Spark session\n",
    "spark = SparkSession.builder.appName(\"TweetSentimentStreaming\").getOrCreate()\n",
    "spark.sparkContext.setLogLevel(\"ERROR\")\n",
    "\n",
    "# Read streaming data from socket\n",
    "lines = spark.readStream.format(\"socket\").option(\"host\", \"localhost\").option(\"port\", 9999).load()\n",
    "\n",
    "# Define sentiment analysis function\n",
    "def get_sentiment(text):\n",
    "    positive = [\"good\", \"great\", \"happy\", \"love\", \"excellent\"]\n",
    "    negative = [\"bad\", \"sad\", \"hate\", \"terrible\", \"poor\"]\n",
    "    text = text.lower()\n",
    "    pos_count = sum(word in text for word in positive)\n",
    "    neg_count = sum(word in text for word in negative)\n",
    "    if pos_count > neg_count:\n",
    "        return \"Positive\"\n",
    "    elif neg_count > pos_count:\n",
    "        return \"Negative\"\n",
    "    else:\n",
    "        return \"Neutral\"\n",
    "\n",
    "# Register UDF\n",
    "sentiment_udf = udf(get_sentiment, StringType())\n",
    "\n",
    "# Apply UDF to streaming data\n",
    "sentiment_df = lines.withColumn(\"sentiment\", sentiment_udf(col(\"value\")))\n",
    "\n",
    "# Output to console\n",
    "query = sentiment_df.writeStream.outputMode(\"append\").format(\"console\").start()\n",
    "query.awaitTermination()"
   ]
  }
 ],
 "metadata": {
  "kernelspec": {
   "display_name": "Python 3",
   "language": "python",
   "name": "python3"
  },
  "language_info": {
   "codemirror_mode": {
    "name": "ipython",
    "version": 3
   },
   "file_extension": ".py",
   "mimetype": "text/x-python",
   "name": "python",
   "nbconvert_exporter": "python",
   "pygments_lexer": "ipython3",
   "version": "3.11.0"
  }
 },
 "nbformat": 4,
 "nbformat_minor": 5
}
