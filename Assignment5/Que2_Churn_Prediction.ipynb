{
 "cells": [
  {
   "cell_type": "markdown",
   "id": "d1ef1ff0",
   "metadata": {},
   "source": [
    "TELECOM CHURN CLASSIFICATION USING PYSPARK"
   ]
  },
  {
   "cell_type": "code",
   "execution_count": 38,
   "id": "ea0f5ec0",
   "metadata": {},
   "outputs": [],
   "source": [
    "from pyspark.sql import SparkSession\n",
    "from pyspark.sql.functions import col\n",
    "from pyspark.ml.feature import StringIndexer, VectorAssembler\n",
    "from pyspark.ml.classification import RandomForestClassifier\n",
    "from pyspark.ml.evaluation import MulticlassClassificationEvaluator, BinaryClassificationEvaluator\n",
    "from pyspark.ml import Pipeline"
   ]
  },
  {
   "cell_type": "markdown",
   "id": "c91f2d25",
   "metadata": {},
   "source": [
    "Create Spark session"
   ]
  },
  {
   "cell_type": "code",
   "execution_count": 39,
   "id": "a8b9b47d",
   "metadata": {},
   "outputs": [],
   "source": [
    "spark = SparkSession.builder.appName(\"TelecomChurnClassification\").getOrCreate()"
   ]
  },
  {
   "cell_type": "markdown",
   "id": "7ccbc18b",
   "metadata": {},
   "source": [
    "Load dataset"
   ]
  },
  {
   "cell_type": "code",
   "execution_count": 40,
   "id": "e262f4e6",
   "metadata": {},
   "outputs": [
    {
     "name": "stdout",
     "output_type": "stream",
     "text": [
      "root\n",
      " |-- RowNumber: integer (nullable = true)\n",
      " |-- CustomerId: integer (nullable = true)\n",
      " |-- Surname: string (nullable = true)\n",
      " |-- CreditScore: integer (nullable = true)\n",
      " |-- Geography: string (nullable = true)\n",
      " |-- Gender: string (nullable = true)\n",
      " |-- Age: integer (nullable = true)\n",
      " |-- Tenure: integer (nullable = true)\n",
      " |-- Balance: double (nullable = true)\n",
      " |-- NumOfProducts: integer (nullable = true)\n",
      " |-- HasCrCard: integer (nullable = true)\n",
      " |-- IsActiveMember: integer (nullable = true)\n",
      " |-- EstimatedSalary: double (nullable = true)\n",
      " |-- Exited: integer (nullable = true)\n",
      "\n",
      "+---------+----------+--------+-----------+---------+------+---+------+---------+-------------+---------+--------------+---------------+------+\n",
      "|RowNumber|CustomerId| Surname|CreditScore|Geography|Gender|Age|Tenure|  Balance|NumOfProducts|HasCrCard|IsActiveMember|EstimatedSalary|Exited|\n",
      "+---------+----------+--------+-----------+---------+------+---+------+---------+-------------+---------+--------------+---------------+------+\n",
      "|        1|  15634602|Hargrave|        619|   France|Female| 42|     2|      0.0|            1|        1|             1|      101348.88|     1|\n",
      "|        2|  15647311|    Hill|        608|    Spain|Female| 41|     1| 83807.86|            1|        0|             1|      112542.58|     0|\n",
      "|        3|  15619304|    Onio|        502|   France|Female| 42|     8| 159660.8|            3|        1|             0|      113931.57|     1|\n",
      "|        4|  15701354|    Boni|        699|   France|Female| 39|     1|      0.0|            2|        0|             0|       93826.63|     0|\n",
      "|        5|  15737888|Mitchell|        850|    Spain|Female| 43|     2|125510.82|            1|        1|             1|        79084.1|     0|\n",
      "+---------+----------+--------+-----------+---------+------+---+------+---------+-------------+---------+--------------+---------------+------+\n",
      "only showing top 5 rows\n",
      "\n"
     ]
    }
   ],
   "source": [
    "df = spark.read.csv(\"Churn_Modelling.csv\", header=True, inferSchema=True)\n",
    "df.printSchema()\n",
    "df.show(5)"
   ]
  },
  {
   "cell_type": "markdown",
   "id": "d077674f",
   "metadata": {},
   "source": [
    "Drop unnecessary columns"
   ]
  },
  {
   "cell_type": "code",
   "execution_count": 41,
   "id": "7122eab5",
   "metadata": {},
   "outputs": [],
   "source": [
    "cols_to_drop = ['RowNumber', 'CustomerId', 'Surname']\n",
    "df = df.drop(*cols_to_drop)"
   ]
  },
  {
   "cell_type": "markdown",
   "id": "ceb1a8ad",
   "metadata": {},
   "source": [
    "Handle categorical variables"
   ]
  },
  {
   "cell_type": "code",
   "execution_count": 42,
   "id": "ad0f7ac4",
   "metadata": {},
   "outputs": [],
   "source": [
    "cat_cols = ['Geography', 'Gender']\n",
    "indexers = [StringIndexer(inputCol=c, outputCol=c+\"_index\", handleInvalid=\"keep\") for c in cat_cols]\n"
   ]
  },
  {
   "cell_type": "markdown",
   "id": "bc00791b",
   "metadata": {},
   "source": [
    "Define feature columns"
   ]
  },
  {
   "cell_type": "code",
   "execution_count": 43,
   "id": "cff6517f",
   "metadata": {},
   "outputs": [],
   "source": [
    "feature_cols = [c for c in df.columns if c not in ['Exited'] + cat_cols]\n",
    "feature_cols += [c + \"_index\" for c in cat_cols]"
   ]
  },
  {
   "cell_type": "markdown",
   "id": "8e03226f",
   "metadata": {},
   "source": [
    "Assemble features"
   ]
  },
  {
   "cell_type": "code",
   "execution_count": 44,
   "id": "64346c3e",
   "metadata": {},
   "outputs": [],
   "source": [
    "assembler = VectorAssembler(inputCols=feature_cols, outputCol=\"features\")"
   ]
  },
  {
   "cell_type": "markdown",
   "id": "2ee93a14",
   "metadata": {},
   "source": [
    "Label encoding"
   ]
  },
  {
   "cell_type": "code",
   "execution_count": 45,
   "id": "f5d9905e",
   "metadata": {},
   "outputs": [],
   "source": [
    "label_indexer = StringIndexer(inputCol=\"Exited\", outputCol=\"label\")"
   ]
  },
  {
   "cell_type": "markdown",
   "id": "0e4f8c64",
   "metadata": {},
   "source": [
    "Apply transformations"
   ]
  },
  {
   "cell_type": "code",
   "execution_count": 46,
   "id": "b048cdee",
   "metadata": {},
   "outputs": [],
   "source": [
    "from pyspark.ml import Pipeline\n",
    "\n",
    "pipeline = Pipeline(stages=indexers + [label_indexer, assembler])\n",
    "data = pipeline.fit(df).transform(df)"
   ]
  },
  {
   "cell_type": "markdown",
   "id": "7e0b0dda",
   "metadata": {},
   "source": [
    "Split into train/test"
   ]
  },
  {
   "cell_type": "code",
   "execution_count": 47,
   "id": "51366dd6",
   "metadata": {},
   "outputs": [],
   "source": [
    "train, test = data.randomSplit([0.8, 0.2], seed=42)"
   ]
  },
  {
   "cell_type": "markdown",
   "id": "51893886",
   "metadata": {},
   "source": [
    "Train model"
   ]
  },
  {
   "cell_type": "code",
   "execution_count": 48,
   "id": "28c574ac",
   "metadata": {},
   "outputs": [],
   "source": [
    "rf = RandomForestClassifier(featuresCol=\"features\", labelCol=\"label\", numTrees=100, maxDepth=6)\n",
    "model = rf.fit(train)"
   ]
  },
  {
   "cell_type": "markdown",
   "id": "20f887ce",
   "metadata": {},
   "source": [
    "Predictions"
   ]
  },
  {
   "cell_type": "code",
   "execution_count": 49,
   "id": "c0a0cc91",
   "metadata": {},
   "outputs": [
    {
     "name": "stdout",
     "output_type": "stream",
     "text": [
      "+-----+----------+-----------------------------------------+\n",
      "|label|prediction|probability                              |\n",
      "+-----+----------+-----------------------------------------+\n",
      "|1.0  |0.0       |[0.6916937133050756,0.30830628669492444] |\n",
      "|1.0  |1.0       |[0.056149042059588386,0.9438509579404116]|\n",
      "|1.0  |1.0       |[0.11692263087057611,0.8830773691294239] |\n",
      "|1.0  |1.0       |[0.20541409363707086,0.7945859063629291] |\n",
      "|1.0  |1.0       |[0.28644586591908777,0.7135541340809122] |\n",
      "|1.0  |0.0       |[0.8709601281711206,0.1290398718288795]  |\n",
      "|0.0  |0.0       |[0.9196424674626228,0.08035753253737725] |\n",
      "|0.0  |0.0       |[0.854767175484065,0.14523282451593492]  |\n",
      "|0.0  |0.0       |[0.8546639873737968,0.14533601262620321] |\n",
      "|0.0  |0.0       |[0.9218187139416035,0.07818128605839642] |\n",
      "+-----+----------+-----------------------------------------+\n",
      "only showing top 10 rows\n",
      "\n"
     ]
    }
   ],
   "source": [
    "predictions = model.transform(test)\n",
    "predictions.select(\"label\", \"prediction\", \"probability\").show(10, truncate=False)\n"
   ]
  },
  {
   "cell_type": "markdown",
   "id": "0580fdc8",
   "metadata": {},
   "source": [
    "Evaluate"
   ]
  },
  {
   "cell_type": "code",
   "execution_count": 50,
   "id": "73365cd4",
   "metadata": {},
   "outputs": [
    {
     "name": "stdout",
     "output_type": "stream",
     "text": [
      "\n",
      "Classification Report:\n",
      "Accuracy :  0.8506\n",
      "Precision: 0.8433\n",
      "Recall   : 0.8506\n",
      "F1 Score : 0.8310\n",
      "AUC-ROC  : 0.8481\n"
     ]
    }
   ],
   "source": [
    "multi_eval = MulticlassClassificationEvaluator(labelCol=\"label\", predictionCol=\"prediction\")\n",
    "binary_eval = BinaryClassificationEvaluator(labelCol=\"label\", rawPredictionCol=\"rawPrediction\")\n",
    "\n",
    "accuracy = multi_eval.evaluate(predictions, {multi_eval.metricName: \"accuracy\"})\n",
    "f1 = multi_eval.evaluate(predictions, {multi_eval.metricName: \"f1\"})\n",
    "precision = multi_eval.evaluate(predictions, {multi_eval.metricName: \"weightedPrecision\"})\n",
    "recall = multi_eval.evaluate(predictions, {multi_eval.metricName: \"weightedRecall\"})\n",
    "auc = binary_eval.evaluate(predictions)\n",
    "\n",
    "print(\"\\nClassification Report:\")\n",
    "print(f\"Accuracy :  {accuracy:.4f}\")\n",
    "print(f\"Precision: {precision:.4f}\")\n",
    "print(f\"Recall   : {recall:.4f}\")\n",
    "print(f\"F1 Score : {f1:.4f}\")\n",
    "print(f\"AUC-ROC  : {auc:.4f}\")\n"
   ]
  },
  {
   "cell_type": "markdown",
   "id": "7d311482",
   "metadata": {},
   "source": [
    "Stop Spark session"
   ]
  },
  {
   "cell_type": "code",
   "execution_count": 51,
   "id": "fabe7f31",
   "metadata": {},
   "outputs": [],
   "source": [
    "spark.stop()"
   ]
  }
 ],
 "metadata": {
  "kernelspec": {
   "display_name": "Python 3",
   "language": "python",
   "name": "python3"
  },
  "language_info": {
   "codemirror_mode": {
    "name": "ipython",
    "version": 3
   },
   "file_extension": ".py",
   "mimetype": "text/x-python",
   "name": "python",
   "nbconvert_exporter": "python",
   "pygments_lexer": "ipython3",
   "version": "3.11.0"
  }
 },
 "nbformat": 4,
 "nbformat_minor": 5
}
