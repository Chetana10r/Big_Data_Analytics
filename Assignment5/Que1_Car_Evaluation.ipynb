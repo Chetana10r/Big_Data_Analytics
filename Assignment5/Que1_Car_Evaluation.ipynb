{
  "cells": [
    {
      "cell_type": "markdown",
      "id": "635b6191",
      "metadata": {
        "id": "635b6191"
      },
      "source": [
        "Q1 — Car Evaluation Classification"
      ]
    },
    {
      "cell_type": "code",
      "execution_count": 1,
      "id": "9b88f7c6",
      "metadata": {
        "id": "9b88f7c6"
      },
      "outputs": [],
      "source": [
        "from pyspark.sql import SparkSession\n",
        "from pyspark.sql.functions import when, col\n",
        "from pyspark.ml import Pipeline\n",
        "from pyspark.ml.feature import StringIndexer, OneHotEncoder, VectorAssembler, StandardScaler\n",
        "from pyspark.ml.classification import RandomForestClassifier\n",
        "from pyspark.ml.evaluation import MulticlassClassificationEvaluator\n",
        "from pyspark.mllib.evaluation import MulticlassMetrics"
      ]
    },
    {
      "cell_type": "markdown",
      "id": "031b05a1",
      "metadata": {
        "id": "031b05a1"
      },
      "source": [
        "Create Spark Session"
      ]
    },
    {
      "cell_type": "code",
      "execution_count": 2,
      "id": "a45e6ab3",
      "metadata": {
        "id": "a45e6ab3"
      },
      "outputs": [],
      "source": [
        "spark = SparkSession.builder.appName(\"CarPriceClassification\").getOrCreate()"
      ]
    },
    {
      "cell_type": "markdown",
      "id": "ec03f4a1",
      "metadata": {
        "id": "ec03f4a1"
      },
      "source": [
        "Load dataset"
      ]
    },
    {
      "cell_type": "code",
      "execution_count": 3,
      "id": "68a58e3d",
      "metadata": {
        "colab": {
          "base_uri": "https://localhost:8080/"
        },
        "id": "68a58e3d",
        "outputId": "8d1963b4-59e6-4e92-a19a-d1fca989d1bc"
      },
      "outputs": [
        {
          "output_type": "stream",
          "name": "stdout",
          "text": [
            "Dataset Loaded Successfully!\n",
            "root\n",
            " |-- Make: string (nullable = true)\n",
            " |-- Model: string (nullable = true)\n",
            " |-- Year: integer (nullable = true)\n",
            " |-- Engine Fuel Type: string (nullable = true)\n",
            " |-- Engine HP: integer (nullable = true)\n",
            " |-- Engine Cylinders: integer (nullable = true)\n",
            " |-- Transmission Type: string (nullable = true)\n",
            " |-- Driven_Wheels: string (nullable = true)\n",
            " |-- Number of Doors: integer (nullable = true)\n",
            " |-- Market Category: string (nullable = true)\n",
            " |-- Vehicle Size: string (nullable = true)\n",
            " |-- Vehicle Style: string (nullable = true)\n",
            " |-- highway MPG: integer (nullable = true)\n",
            " |-- city mpg: integer (nullable = true)\n",
            " |-- Popularity: integer (nullable = true)\n",
            " |-- MSRP: integer (nullable = true)\n",
            "\n",
            "+----+----------+----+--------------------+---------+----------------+-----------------+----------------+---------------+--------------------+------------+-------------+-----------+--------+----------+-----+\n",
            "|Make|     Model|Year|    Engine Fuel Type|Engine HP|Engine Cylinders|Transmission Type|   Driven_Wheels|Number of Doors|     Market Category|Vehicle Size|Vehicle Style|highway MPG|city mpg|Popularity| MSRP|\n",
            "+----+----------+----+--------------------+---------+----------------+-----------------+----------------+---------------+--------------------+------------+-------------+-----------+--------+----------+-----+\n",
            "| BMW|1 Series M|2011|premium unleaded ...|      335|               6|           MANUAL|rear wheel drive|              2|Factory Tuner,Lux...|     Compact|        Coupe|         26|      19|      3916|46135|\n",
            "| BMW|  1 Series|2011|premium unleaded ...|      300|               6|           MANUAL|rear wheel drive|              2|  Luxury,Performance|     Compact|  Convertible|         28|      19|      3916|40650|\n",
            "| BMW|  1 Series|2011|premium unleaded ...|      300|               6|           MANUAL|rear wheel drive|              2|Luxury,High-Perfo...|     Compact|        Coupe|         28|      20|      3916|36350|\n",
            "| BMW|  1 Series|2011|premium unleaded ...|      230|               6|           MANUAL|rear wheel drive|              2|  Luxury,Performance|     Compact|        Coupe|         28|      18|      3916|29450|\n",
            "| BMW|  1 Series|2011|premium unleaded ...|      230|               6|           MANUAL|rear wheel drive|              2|              Luxury|     Compact|  Convertible|         28|      18|      3916|34500|\n",
            "+----+----------+----+--------------------+---------+----------------+-----------------+----------------+---------------+--------------------+------------+-------------+-----------+--------+----------+-----+\n",
            "only showing top 5 rows\n",
            "\n"
          ]
        }
      ],
      "source": [
        "data_path = \"car_data.csv\"  # Change file name if different\n",
        "df = spark.read.option(\"header\", True).option(\"inferSchema\", True).csv(data_path)\n",
        "\n",
        "print(\"Dataset Loaded Successfully!\")\n",
        "df.printSchema()\n",
        "df.show(5)"
      ]
    },
    {
      "cell_type": "markdown",
      "id": "6c1adcf3",
      "metadata": {
        "id": "6c1adcf3"
      },
      "source": [
        "Drop rows with missing MSRP"
      ]
    },
    {
      "cell_type": "code",
      "execution_count": 4,
      "id": "e8f747b7",
      "metadata": {
        "id": "e8f747b7"
      },
      "outputs": [],
      "source": [
        "df = df.na.drop(subset=[\"MSRP\"])"
      ]
    },
    {
      "cell_type": "markdown",
      "id": "b37ea1e3",
      "metadata": {
        "id": "b37ea1e3"
      },
      "source": [
        "Create target variable (price category)"
      ]
    },
    {
      "cell_type": "code",
      "execution_count": 5,
      "id": "21896710",
      "metadata": {
        "id": "21896710"
      },
      "outputs": [],
      "source": [
        "df = df.withColumn(\n",
        "    \"price_category\",\n",
        "    when(col(\"MSRP\") < 20000, \"Low\")\n",
        "    .when((col(\"MSRP\") >= 20000) & (col(\"MSRP\") <= 40000), \"Medium\")\n",
        "    .otherwise(\"High\")\n",
        ")\n"
      ]
    },
    {
      "cell_type": "markdown",
      "id": "f01a2dd6",
      "metadata": {
        "id": "f01a2dd6"
      },
      "source": [
        "Drop unnecessary columns (Make, Model, Year optional)"
      ]
    },
    {
      "cell_type": "code",
      "execution_count": 6,
      "id": "82770b24",
      "metadata": {
        "id": "82770b24"
      },
      "outputs": [],
      "source": [
        "df = df.drop(\"Make\", \"Model\", \"Market Category\")"
      ]
    },
    {
      "cell_type": "markdown",
      "id": "cf393531",
      "metadata": {
        "id": "cf393531"
      },
      "source": [
        "Identify categorical and numerical features"
      ]
    },
    {
      "cell_type": "code",
      "execution_count": 7,
      "id": "693769e6",
      "metadata": {
        "id": "693769e6"
      },
      "outputs": [],
      "source": [
        "categorical_cols = [\"Engine Fuel Type\", \"Transmission Type\", \"Driven_Wheels\", \"Vehicle Size\", \"Vehicle Style\"]\n",
        "numeric_cols = [\"Engine HP\", \"Engine Cylinders\", \"Number of Doors\", \"highway MPG\", \"city mpg\", \"Popularity\"]"
      ]
    },
    {
      "cell_type": "markdown",
      "id": "d44e0e12",
      "metadata": {
        "id": "d44e0e12"
      },
      "source": [
        "Handle missing numeric values"
      ]
    },
    {
      "cell_type": "code",
      "execution_count": 8,
      "id": "dce83a2f",
      "metadata": {
        "id": "dce83a2f"
      },
      "outputs": [],
      "source": [
        "for c in numeric_cols:\n",
        "    df = df.na.fill({c: 0})"
      ]
    },
    {
      "cell_type": "markdown",
      "id": "7229eda5",
      "metadata": {
        "id": "7229eda5"
      },
      "source": [
        "StringIndexer + OneHotEncoder for categorical columns"
      ]
    },
    {
      "cell_type": "code",
      "execution_count": 9,
      "id": "208ce5f6",
      "metadata": {
        "id": "208ce5f6"
      },
      "outputs": [],
      "source": [
        "indexers = [StringIndexer(inputCol=c, outputCol=c + \"_idx\", handleInvalid=\"keep\") for c in categorical_cols]\n",
        "encoder = OneHotEncoder(\n",
        "    inputCols=[c + \"_idx\" for c in categorical_cols],\n",
        "    outputCols=[c + \"_ohe\" for c in categorical_cols]\n",
        ")"
      ]
    },
    {
      "cell_type": "markdown",
      "id": "6015f229",
      "metadata": {
        "id": "6015f229"
      },
      "source": [
        "Index target variable"
      ]
    },
    {
      "cell_type": "code",
      "execution_count": 10,
      "id": "5883fc76",
      "metadata": {
        "id": "5883fc76"
      },
      "outputs": [],
      "source": [
        "label_indexer = StringIndexer(inputCol=\"price_category\", outputCol=\"label\")"
      ]
    },
    {
      "cell_type": "markdown",
      "id": "587c9e08",
      "metadata": {
        "id": "587c9e08"
      },
      "source": [
        "Assemble all features"
      ]
    },
    {
      "cell_type": "code",
      "execution_count": 11,
      "id": "ab24b964",
      "metadata": {
        "id": "ab24b964"
      },
      "outputs": [],
      "source": [
        "assembler = VectorAssembler(\n",
        "    inputCols=[c + \"_ohe\" for c in categorical_cols] + numeric_cols,\n",
        "    outputCol=\"features_raw\"\n",
        ")\n",
        "scaler = StandardScaler(inputCol=\"features_raw\", outputCol=\"features\")"
      ]
    },
    {
      "cell_type": "markdown",
      "id": "b091a68d",
      "metadata": {
        "id": "b091a68d"
      },
      "source": [
        "Build model"
      ]
    },
    {
      "cell_type": "code",
      "execution_count": 12,
      "id": "e557df57",
      "metadata": {
        "id": "e557df57"
      },
      "outputs": [],
      "source": [
        "rf = RandomForestClassifier(labelCol=\"label\", featuresCol=\"features\", numTrees=100, seed=42)"
      ]
    },
    {
      "cell_type": "markdown",
      "id": "cb01046f",
      "metadata": {
        "id": "cb01046f"
      },
      "source": [
        "Create pipeline"
      ]
    },
    {
      "cell_type": "code",
      "execution_count": 13,
      "id": "edaa4a97",
      "metadata": {
        "id": "edaa4a97"
      },
      "outputs": [],
      "source": [
        "pipeline = Pipeline(stages=indexers + [encoder, label_indexer, assembler, scaler, rf])"
      ]
    },
    {
      "cell_type": "markdown",
      "id": "c08d82a7",
      "metadata": {
        "id": "c08d82a7"
      },
      "source": [
        "Split data"
      ]
    },
    {
      "cell_type": "code",
      "execution_count": 14,
      "id": "6bc4a232",
      "metadata": {
        "id": "6bc4a232"
      },
      "outputs": [],
      "source": [
        "train, test = df.randomSplit([0.8, 0.2], seed=42)"
      ]
    },
    {
      "cell_type": "markdown",
      "id": "cbff7cd8",
      "metadata": {
        "id": "cbff7cd8"
      },
      "source": [
        "Train model"
      ]
    },
    {
      "cell_type": "code",
      "execution_count": 15,
      "id": "3b2d0887",
      "metadata": {
        "id": "3b2d0887"
      },
      "outputs": [],
      "source": [
        "model = pipeline.fit(train)"
      ]
    },
    {
      "cell_type": "code",
      "execution_count": 16,
      "id": "b3692466",
      "metadata": {
        "id": "b3692466"
      },
      "outputs": [],
      "source": [
        "preds = model.transform(test)"
      ]
    },
    {
      "cell_type": "markdown",
      "id": "f09ad405",
      "metadata": {
        "id": "f09ad405"
      },
      "source": [
        "Evaluate"
      ]
    },
    {
      "cell_type": "code",
      "execution_count": 17,
      "id": "4dcc6107",
      "metadata": {
        "colab": {
          "base_uri": "https://localhost:8080/"
        },
        "id": "4dcc6107",
        "outputId": "1036835d-d4f2-49c7-befc-d7c6ae8c8245"
      },
      "outputs": [
        {
          "output_type": "stream",
          "name": "stdout",
          "text": [
            "\n",
            "Model Accuracy: 0.7899\n"
          ]
        }
      ],
      "source": [
        "evaluator = MulticlassClassificationEvaluator(labelCol=\"label\", predictionCol=\"prediction\", metricName=\"accuracy\")\n",
        "accuracy = evaluator.evaluate(preds)\n",
        "print(f\"\\nModel Accuracy: {accuracy:.4f}\")"
      ]
    },
    {
      "cell_type": "markdown",
      "id": "2d82c9ff",
      "metadata": {
        "id": "2d82c9ff"
      },
      "source": [
        "Classification report with safe check for empty RDD"
      ]
    },
    {
      "cell_type": "code",
      "execution_count": 18,
      "id": "992ff71f",
      "metadata": {
        "colab": {
          "base_uri": "https://localhost:8080/"
        },
        "id": "992ff71f",
        "outputId": "62821933-2550-427e-fe2b-7c52cc4f3ae7"
      },
      "outputs": [
        {
          "output_type": "stream",
          "name": "stderr",
          "text": [
            "/usr/local/lib/python3.12/dist-packages/pyspark/sql/context.py:158: FutureWarning: Deprecated in 3.0.0. Use SparkSession.builder.getOrCreate() instead.\n",
            "  warnings.warn(\n"
          ]
        },
        {
          "output_type": "stream",
          "name": "stdout",
          "text": [
            "\n",
            "Classification Report\n",
            "Class 2.0: Precision=0.844, Recall=0.613, F1=0.710\n",
            "Class 0.0: Precision=0.742, Recall=0.899, F1=0.813\n",
            "Class 1.0: Precision=0.879, Recall=0.724, F1=0.794\n",
            "\n",
            "Confusion Matrix\n",
            "[[1053.   64.   54.]\n",
            " [ 185.  486.    0.]\n",
            " [ 181.    3.  292.]]\n"
          ]
        }
      ],
      "source": [
        "if preds.count() == 0:\n",
        "    print(\"No predictions available; test set may be empty or has issues.\")\n",
        "else:\n",
        "    preds_and_labels = preds.select(\"prediction\", \"label\").rdd.map(lambda r: (float(r[0]), float(r[1])))\n",
        "    metrics = MulticlassMetrics(preds_and_labels)\n",
        "\n",
        "    print(\"\\nClassification Report\")\n",
        "    labels = preds_and_labels.map(lambda x: x[1]).distinct().collect()\n",
        "    for label in labels:\n",
        "        print(f\"Class {label}: Precision={metrics.precision(label):.3f}, Recall={metrics.recall(label):.3f}, F1={metrics.fMeasure(label):.3f}\")\n",
        "\n",
        "    print(\"\\nConfusion Matrix\")\n",
        "    print(metrics.confusionMatrix().toArray())"
      ]
    },
    {
      "cell_type": "markdown",
      "id": "83bbfba6",
      "metadata": {
        "id": "83bbfba6"
      },
      "source": [
        "Save model"
      ]
    },
    {
      "cell_type": "code",
      "execution_count": 19,
      "id": "4a45e2f7",
      "metadata": {
        "colab": {
          "base_uri": "https://localhost:8080/"
        },
        "id": "4a45e2f7",
        "outputId": "8f374f0a-88a9-4218-f7c3-987045128a65"
      },
      "outputs": [
        {
          "output_type": "stream",
          "name": "stdout",
          "text": [
            "\n",
            "Model saved successfully as 'models/car_price_rf_model'\n"
          ]
        }
      ],
      "source": [
        "model.save(\"models/car_price_rf_model\")\n",
        "print(\"\\nModel saved successfully as 'models/car_price_rf_model'\")"
      ]
    },
    {
      "cell_type": "code",
      "execution_count": 20,
      "id": "aa884ec5",
      "metadata": {
        "id": "aa884ec5"
      },
      "outputs": [],
      "source": [
        "spark.stop()"
      ]
    }
  ],
  "metadata": {
    "kernelspec": {
      "display_name": "Python 3",
      "language": "python",
      "name": "python3"
    },
    "language_info": {
      "codemirror_mode": {
        "name": "ipython",
        "version": 3
      },
      "file_extension": ".py",
      "mimetype": "text/x-python",
      "name": "python",
      "nbconvert_exporter": "python",
      "pygments_lexer": "ipython3",
      "version": "3.11.0"
    },
    "colab": {
      "provenance": []
    }
  },
  "nbformat": 4,
  "nbformat_minor": 5
}