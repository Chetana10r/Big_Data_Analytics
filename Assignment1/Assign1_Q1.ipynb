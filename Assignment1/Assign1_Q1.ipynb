{
 "cells": [
  {
   "cell_type": "code",
   "execution_count": 1,
   "id": "0e4da341",
   "metadata": {},
   "outputs": [
    {
     "data": {
      "text/html": [
       "\n",
       "        <div>\n",
       "            <p><b>SparkContext</b></p>\n",
       "\n",
       "            <p><a href=\"http://LAPTOP-BJRVRTC3:4040\">Spark UI</a></p>\n",
       "\n",
       "            <dl>\n",
       "              <dt>Version</dt>\n",
       "                <dd><code>v3.5.6</code></dd>\n",
       "              <dt>Master</dt>\n",
       "                <dd><code>local[*]</code></dd>\n",
       "              <dt>AppName</dt>\n",
       "                <dd><code>MyAppName</code></dd>\n",
       "            </dl>\n",
       "        </div>\n",
       "        "
      ],
      "text/plain": [
       "<SparkContext master=local[*] appName=MyAppName>"
      ]
     },
     "execution_count": 1,
     "metadata": {},
     "output_type": "execute_result"
    }
   ],
   "source": [
    "import findspark\n",
    "findspark.init()\n",
    "import pyspark\n",
    "sc=pyspark.SparkContext(appName=\"MyAppName\")\n",
    "sc"
   ]
  },
  {
   "cell_type": "code",
   "execution_count": 10,
   "id": "ba6dea54",
   "metadata": {},
   "outputs": [],
   "source": [
    "from pyspark.sql import SparkSession\n",
    "from pyspark.sql.functions import col\n",
    "\n",
    "# Create Spark Session\n",
    "spark = SparkSession.builder.appName(\"AssignmentOne\").getOrCreate()\n"
   ]
  },
  {
   "cell_type": "markdown",
   "id": "1028d2a8",
   "metadata": {},
   "source": [
    "Question 1\n",
    "Create Student & Class DataFrames"
   ]
  },
  {
   "cell_type": "code",
   "execution_count": 11,
   "id": "966989fb",
   "metadata": {},
   "outputs": [
    {
     "name": "stdout",
     "output_type": "stream",
     "text": [
      "+------+-----+-------+---+------+-------+\n",
      "|rollno| name|address|age|gender|classid|\n",
      "+------+-----+-------+---+------+-------+\n",
      "|     1| Amit|   Pune| 21|     M|    101|\n",
      "|     2|Priya| Mumbai| 23|     F|    102|\n",
      "|     3| Ravi|  Delhi| 22|     M|    101|\n",
      "|     4|Sneha| Nagpur| 25|     F|    103|\n",
      "|     5|Karan|   Pune| 24|     M|    102|\n",
      "+------+-----+-------+---+------+-------+\n",
      "\n",
      "+-------+------------+\n",
      "|classid|   classname|\n",
      "+-------+------------+\n",
      "|    101|Data Science|\n",
      "|    102|          AI|\n",
      "|    103|          ML|\n",
      "+-------+------------+\n",
      "\n"
     ]
    }
   ],
   "source": [
    "from pyspark.sql import Row\n",
    "\n",
    "# Student dataframe\n",
    "student_data = [\n",
    "    (1, \"Amit\", \"Pune\", 21, \"M\", 101),\n",
    "    (2, \"Priya\", \"Mumbai\", 23, \"F\", 102),\n",
    "    (3, \"Ravi\", \"Delhi\", 22, \"M\", 101),\n",
    "    (4, \"Sneha\", \"Nagpur\", 25, \"F\", 103),\n",
    "    (5, \"Karan\", \"Pune\", 24, \"M\", 102)\n",
    "]\n",
    "\n",
    "student_columns = [\"rollno\", \"name\", \"address\", \"age\", \"gender\", \"classid\"]\n",
    "\n",
    "students_df = spark.createDataFrame(student_data, student_columns)\n",
    "\n",
    "# Class dataframe\n",
    "class_data = [\n",
    "    (101, \"Data Science\"),\n",
    "    (102, \"AI\"),\n",
    "    (103, \"ML\")\n",
    "]\n",
    "\n",
    "class_columns = [\"classid\", \"classname\"]\n",
    "\n",
    "class_df = spark.createDataFrame(class_data, class_columns)\n",
    "\n",
    "# Show data\n",
    "students_df.show()\n",
    "class_df.show()\n"
   ]
  },
  {
   "cell_type": "markdown",
   "id": "70a9302e",
   "metadata": {},
   "source": [
    "Operations"
   ]
  },
  {
   "cell_type": "code",
   "execution_count": 13,
   "id": "4afd1b5c",
   "metadata": {},
   "outputs": [
    {
     "name": "stdout",
     "output_type": "stream",
     "text": [
      "+-----+\n",
      "| name|\n",
      "+-----+\n",
      "| Amit|\n",
      "| Ravi|\n",
      "|Karan|\n",
      "+-----+\n",
      "\n"
     ]
    }
   ],
   "source": [
    "# Display student names with gender = M\n",
    "students_df.filter(col(\"gender\") == \"M\").select(\"name\").show()"
   ]
  },
  {
   "cell_type": "code",
   "execution_count": 14,
   "id": "65fadbe0",
   "metadata": {},
   "outputs": [
    {
     "name": "stdout",
     "output_type": "stream",
     "text": [
      "+-----+\n",
      "| name|\n",
      "+-----+\n",
      "|Priya|\n",
      "|Sneha|\n",
      "+-----+\n",
      "\n"
     ]
    }
   ],
   "source": [
    "# Display student names with gender = F\n",
    "students_df.filter(col(\"gender\") == \"F\").select(\"name\").show()"
   ]
  },
  {
   "cell_type": "code",
   "execution_count": 15,
   "id": "d016ae3e",
   "metadata": {},
   "outputs": [
    {
     "name": "stdout",
     "output_type": "stream",
     "text": [
      "+------+----+-------+---+------+-------+\n",
      "|rollno|name|address|age|gender|classid|\n",
      "+------+----+-------+---+------+-------+\n",
      "|     1|Amit|   Pune| 21|     M|    101|\n",
      "|     3|Ravi|  Delhi| 22|     M|    101|\n",
      "+------+----+-------+---+------+-------+\n",
      "\n"
     ]
    }
   ],
   "source": [
    "# Display students of classid = 101\n",
    "students_df.filter(col(\"classid\") == 101).show()"
   ]
  },
  {
   "cell_type": "code",
   "execution_count": 16,
   "id": "45e8cf56",
   "metadata": {},
   "outputs": [
    {
     "name": "stdout",
     "output_type": "stream",
     "text": [
      "+------+-----+-------+---+------+-------+\n",
      "|rollno| name|address|age|gender|classid|\n",
      "+------+-----+-------+---+------+-------+\n",
      "|     2|Priya| Mumbai| 23|     F|    102|\n",
      "|     4|Sneha| Nagpur| 25|     F|    103|\n",
      "|     5|Karan|   Pune| 24|     M|    102|\n",
      "+------+-----+-------+---+------+-------+\n",
      "\n"
     ]
    }
   ],
   "source": [
    "# Display students whose age > 22\n",
    "students_df.filter(col(\"age\") > 22).show()"
   ]
  },
  {
   "cell_type": "code",
   "execution_count": 17,
   "id": "d3865ad8",
   "metadata": {},
   "outputs": [
    {
     "name": "stdout",
     "output_type": "stream",
     "text": [
      "+------+-----+-------+---+------+-------+-----+\n",
      "|rollno| name|address|age|gender|classid|grade|\n",
      "+------+-----+-------+---+------+-------+-----+\n",
      "|     1| Amit|   Pune| 21|     M|    101|   42|\n",
      "|     2|Priya| Mumbai| 23|     F|    102|   46|\n",
      "|     3| Ravi|  Delhi| 22|     M|    101|   44|\n",
      "|     4|Sneha| Nagpur| 25|     F|    103|   50|\n",
      "|     5|Karan|   Pune| 24|     M|    102|   48|\n",
      "+------+-----+-------+---+------+-------+-----+\n",
      "\n"
     ]
    }
   ],
   "source": [
    "# Add new column 'grade'\n",
    "students_df = students_df.withColumn(\"grade\", \n",
    "              col(\"age\") * 2)  # Example logic: grade = age*2\n",
    "students_df.show()"
   ]
  },
  {
   "cell_type": "code",
   "execution_count": 18,
   "id": "4058dff1",
   "metadata": {},
   "outputs": [
    {
     "name": "stdout",
     "output_type": "stream",
     "text": [
      "+------------+-----+\n",
      "|   classname| name|\n",
      "+------------+-----+\n",
      "|Data Science| Amit|\n",
      "|Data Science| Ravi|\n",
      "|          AI|Priya|\n",
      "|          AI|Karan|\n",
      "|          ML|Sneha|\n",
      "+------------+-----+\n",
      "\n"
     ]
    }
   ],
   "source": [
    "# Join students with class\n",
    "students_with_class = students_df.join(class_df, \"classid\")\n",
    "students_with_class.select(\"classname\", \"name\").show()"
   ]
  }
 ],
 "metadata": {
  "kernelspec": {
   "display_name": "Python 3",
   "language": "python",
   "name": "python3"
  },
  "language_info": {
   "codemirror_mode": {
    "name": "ipython",
    "version": 3
   },
   "file_extension": ".py",
   "mimetype": "text/x-python",
   "name": "python",
   "nbconvert_exporter": "python",
   "pygments_lexer": "ipython3",
   "version": "3.11.0"
  }
 },
 "nbformat": 4,
 "nbformat_minor": 5
}
