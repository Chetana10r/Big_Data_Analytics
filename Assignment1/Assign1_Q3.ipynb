{
 "cells": [
  {
   "cell_type": "code",
   "execution_count": 1,
   "id": "8ec132eb",
   "metadata": {},
   "outputs": [
    {
     "data": {
      "text/html": [
       "\n",
       "        <div>\n",
       "            <p><b>SparkContext</b></p>\n",
       "\n",
       "            <p><a href=\"http://LAPTOP-BJRVRTC3:4041\">Spark UI</a></p>\n",
       "\n",
       "            <dl>\n",
       "              <dt>Version</dt>\n",
       "                <dd><code>v3.5.6</code></dd>\n",
       "              <dt>Master</dt>\n",
       "                <dd><code>local[*]</code></dd>\n",
       "              <dt>AppName</dt>\n",
       "                <dd><code>MyAppName</code></dd>\n",
       "            </dl>\n",
       "        </div>\n",
       "        "
      ],
      "text/plain": [
       "<SparkContext master=local[*] appName=MyAppName>"
      ]
     },
     "execution_count": 1,
     "metadata": {},
     "output_type": "execute_result"
    }
   ],
   "source": [
    "import findspark\n",
    "findspark.init()\n",
    "import pyspark\n",
    "sc=pyspark.SparkContext(appName=\"MyAppName\")\n",
    "sc"
   ]
  },
  {
   "cell_type": "code",
   "execution_count": 2,
   "id": "1a54f1f5",
   "metadata": {},
   "outputs": [],
   "source": [
    "from pyspark.sql import SparkSession\n",
    "from pyspark.sql.functions import col, sum as _sum, min as _min, max as _max, asc, month, dayofmonth\n",
    "\n",
    "# Create Spark Session\n",
    "spark = SparkSession.builder.appName(\"Assignment1\").getOrCreate()\n"
   ]
  },
  {
   "cell_type": "code",
   "execution_count": 3,
   "id": "6c3e4734",
   "metadata": {},
   "outputs": [],
   "source": [
    "# Product Data\n",
    "product_data = [\n",
    "    (101, \"Laptop\", \"Electronics\", 60000),\n",
    "    (102, \"Mobile\", \"Electronics\", 20000),\n",
    "    (103, \"Book\", \"Stationery\", 500),\n",
    "    (104, \"Tablet\", \"Electronics\", 30000)\n",
    "]\n",
    "product_cols = [\"product_id\", \"pname\", \"ptype\", \"price\"]\n",
    "product_df = spark.createDataFrame(product_data, product_cols)\n",
    "\n",
    "# Customer Data\n",
    "customer_data = [\n",
    "    (1, \"Amit\", \"9999999999\", \"Pune\"),\n",
    "    (2, \"Priya\", \"8888888888\", \"Mumbai\"),\n",
    "    (3, \"Ravi\", \"7777777777\", \"Pune\"),\n",
    "    (4, \"Sneha\", \"6666666666\", \"Delhi\")\n",
    "]\n",
    "customer_cols = [\"cust_id\", \"cname\", \"mobileno\", \"city\"]\n",
    "customer_df = spark.createDataFrame(customer_data, customer_cols)\n",
    "\n",
    "# Orders Data\n",
    "orders_data = [\n",
    "    (1001, \"2013-08-01\", 1, \"COMPLETE\"),\n",
    "    (1002, \"2013-08-15\", 2, \"CLOSED\"),\n",
    "    (1003, \"2013-09-01\", 3, \"PENDING\"),\n",
    "    (1004, \"2013-09-10\", 4, \"COMPLETE\")\n",
    "]\n",
    "orders_cols = [\"order_id\", \"order_date\", \"order_customer_id\", \"order_status\"]\n",
    "orders_df = spark.createDataFrame(orders_data, orders_cols)\n",
    "\n",
    "# Order Items Data\n",
    "order_items_data = [\n",
    "    (1, 1001, 101, 1, 60000),\n",
    "    (2, 1001, 103, 2, 1000),\n",
    "    (3, 1002, 102, 1, 20000),\n",
    "    (4, 1003, 104, 2, 60000),\n",
    "    (5, 1004, 103, 3, 1500)\n",
    "]\n",
    "order_items_cols = [\"order_item_id\", \"order_item_order_id\", \"order_item_product_id\", \"order_item_quantity\", \"order_item_subtotal\"]\n",
    "order_items_df = spark.createDataFrame(order_items_data, order_items_cols)\n"
   ]
  },
  {
   "cell_type": "markdown",
   "id": "17477a7b",
   "metadata": {},
   "source": [
    "(a) Get details of all customers from Pune city"
   ]
  },
  {
   "cell_type": "code",
   "execution_count": 4,
   "id": "126c4014",
   "metadata": {},
   "outputs": [
    {
     "name": "stdout",
     "output_type": "stream",
     "text": [
      "+-------+-----+----------+----+\n",
      "|cust_id|cname|  mobileno|city|\n",
      "+-------+-----+----------+----+\n",
      "|      1| Amit|9999999999|Pune|\n",
      "|      3| Ravi|7777777777|Pune|\n",
      "+-------+-----+----------+----+\n",
      "\n"
     ]
    }
   ],
   "source": [
    "customer_df.filter(col(\"city\") == \"Pune\").show()\n"
   ]
  },
  {
   "cell_type": "markdown",
   "id": "492dcfa3",
   "metadata": {},
   "source": [
    "(b) Get details of orders with subtotal > 20000 in month 8 (August)"
   ]
  },
  {
   "cell_type": "code",
   "execution_count": 5,
   "id": "1d7bc13c",
   "metadata": {},
   "outputs": [
    {
     "name": "stdout",
     "output_type": "stream",
     "text": [
      "+--------+----------+-----------------+------------+-------------+-------------------+---------------------+-------------------+-------------------+\n",
      "|order_id|order_date|order_customer_id|order_status|order_item_id|order_item_order_id|order_item_product_id|order_item_quantity|order_item_subtotal|\n",
      "+--------+----------+-----------------+------------+-------------+-------------------+---------------------+-------------------+-------------------+\n",
      "|    1001|2013-08-01|                1|    COMPLETE|            1|               1001|                  101|                  1|              60000|\n",
      "+--------+----------+-----------------+------------+-------------+-------------------+---------------------+-------------------+-------------------+\n",
      "\n"
     ]
    }
   ],
   "source": [
    "orders_df.join(order_items_df, orders_df.order_id == order_items_df.order_item_order_id) \\\n",
    "    .filter((order_items_df.order_item_subtotal > 20000) & (month(col(\"order_date\")) == 8)) \\\n",
    "    .show()\n"
   ]
  },
  {
   "cell_type": "markdown",
   "id": "d6afb18c",
   "metadata": {},
   "source": [
    "(c) Print orders in ascending order of subtotal"
   ]
  },
  {
   "cell_type": "code",
   "execution_count": 6,
   "id": "0b5bd37a",
   "metadata": {},
   "outputs": [
    {
     "name": "stdout",
     "output_type": "stream",
     "text": [
      "+--------+----------+-----------------+------------+-------------+-------------------+---------------------+-------------------+-------------------+\n",
      "|order_id|order_date|order_customer_id|order_status|order_item_id|order_item_order_id|order_item_product_id|order_item_quantity|order_item_subtotal|\n",
      "+--------+----------+-----------------+------------+-------------+-------------------+---------------------+-------------------+-------------------+\n",
      "|    1001|2013-08-01|                1|    COMPLETE|            2|               1001|                  103|                  2|               1000|\n",
      "|    1004|2013-09-10|                4|    COMPLETE|            5|               1004|                  103|                  3|               1500|\n",
      "|    1002|2013-08-15|                2|      CLOSED|            3|               1002|                  102|                  1|              20000|\n",
      "|    1001|2013-08-01|                1|    COMPLETE|            1|               1001|                  101|                  1|              60000|\n",
      "|    1003|2013-09-01|                3|     PENDING|            4|               1003|                  104|                  2|              60000|\n",
      "+--------+----------+-----------------+------------+-------------+-------------------+---------------------+-------------------+-------------------+\n",
      "\n"
     ]
    }
   ],
   "source": [
    "orders_df.join(order_items_df, orders_df.order_id == order_items_df.order_item_order_id) \\\n",
    "    .orderBy(asc(\"order_item_subtotal\")).show()\n"
   ]
  },
  {
   "cell_type": "markdown",
   "id": "f74e758d",
   "metadata": {},
   "source": [
    "(d) Print customer details with min and max order amount"
   ]
  },
  {
   "cell_type": "code",
   "execution_count": 7,
   "id": "7e3d5938",
   "metadata": {},
   "outputs": [
    {
     "name": "stdout",
     "output_type": "stream",
     "text": [
      "+-----+---------+---------+\n",
      "|cname|min_order|max_order|\n",
      "+-----+---------+---------+\n",
      "| Ravi|    60000|    60000|\n",
      "|Sneha|     1500|     1500|\n",
      "|Priya|    20000|    20000|\n",
      "| Amit|     1000|    60000|\n",
      "+-----+---------+---------+\n",
      "\n"
     ]
    }
   ],
   "source": [
    "cust_orders = orders_df.join(order_items_df, orders_df.order_id == order_items_df.order_item_order_id) \\\n",
    "                       .join(customer_df, orders_df.order_customer_id == customer_df.cust_id)\n",
    "\n",
    "cust_orders.groupBy(\"cname\").agg(_min(\"order_item_subtotal\").alias(\"min_order\"),\n",
    "                                 _max(\"order_item_subtotal\").alias(\"max_order\")).show()\n"
   ]
  },
  {
   "cell_type": "markdown",
   "id": "9c753638",
   "metadata": {},
   "source": [
    "(e) Get orders which are either COMPLETE or CLOSED"
   ]
  },
  {
   "cell_type": "code",
   "execution_count": 8,
   "id": "684712de",
   "metadata": {},
   "outputs": [
    {
     "name": "stdout",
     "output_type": "stream",
     "text": [
      "+--------+----------+-----------------+------------+\n",
      "|order_id|order_date|order_customer_id|order_status|\n",
      "+--------+----------+-----------------+------------+\n",
      "|    1001|2013-08-01|                1|    COMPLETE|\n",
      "|    1002|2013-08-15|                2|      CLOSED|\n",
      "|    1004|2013-09-10|                4|    COMPLETE|\n",
      "+--------+----------+-----------------+------------+\n",
      "\n"
     ]
    }
   ],
   "source": [
    "orders_df.filter((col(\"order_status\") == \"COMPLETE\") | (col(\"order_status\") == \"CLOSED\")).show()\n"
   ]
  },
  {
   "cell_type": "markdown",
   "id": "5d326039",
   "metadata": {},
   "source": [
    "(f) Get orders which are COMPLETE or CLOSED and placed in August 2013"
   ]
  },
  {
   "cell_type": "code",
   "execution_count": 9,
   "id": "8375ea13",
   "metadata": {},
   "outputs": [
    {
     "name": "stdout",
     "output_type": "stream",
     "text": [
      "+--------+----------+-----------------+------------+\n",
      "|order_id|order_date|order_customer_id|order_status|\n",
      "+--------+----------+-----------------+------------+\n",
      "|    1001|2013-08-01|                1|    COMPLETE|\n",
      "|    1002|2013-08-15|                2|      CLOSED|\n",
      "+--------+----------+-----------------+------------+\n",
      "\n"
     ]
    }
   ],
   "source": [
    "orders_df.filter(((col(\"order_status\") == \"COMPLETE\") | (col(\"order_status\") == \"CLOSED\")) &\n",
    "                 (month(col(\"order_date\")) == 8)).show()\n"
   ]
  },
  {
   "cell_type": "markdown",
   "id": "b2897218",
   "metadata": {},
   "source": [
    "(g) Get order items where subtotal != product(price * quantity)"
   ]
  },
  {
   "cell_type": "code",
   "execution_count": 10,
   "id": "6693d76a",
   "metadata": {},
   "outputs": [
    {
     "name": "stdout",
     "output_type": "stream",
     "text": [
      "+-------------+-------------------+---------------------+-------------------+-------------------+----------+-----+-----+-----+\n",
      "|order_item_id|order_item_order_id|order_item_product_id|order_item_quantity|order_item_subtotal|product_id|pname|ptype|price|\n",
      "+-------------+-------------------+---------------------+-------------------+-------------------+----------+-----+-----+-----+\n",
      "+-------------+-------------------+---------------------+-------------------+-------------------+----------+-----+-----+-----+\n",
      "\n"
     ]
    }
   ],
   "source": [
    "check_items = order_items_df.join(product_df, order_items_df.order_item_product_id == product_df.product_id)\n",
    "check_items.filter(col(\"order_item_subtotal\") != (col(\"order_item_quantity\") * col(\"price\"))).show()\n"
   ]
  },
  {
   "cell_type": "markdown",
   "id": "014408c1",
   "metadata": {},
   "source": [
    "(h) Get all orders placed on the 1st of every month"
   ]
  },
  {
   "cell_type": "code",
   "execution_count": 11,
   "id": "a925d9ed",
   "metadata": {},
   "outputs": [
    {
     "name": "stdout",
     "output_type": "stream",
     "text": [
      "+--------+----------+-----------------+------------+\n",
      "|order_id|order_date|order_customer_id|order_status|\n",
      "+--------+----------+-----------------+------------+\n",
      "|    1001|2013-08-01|                1|    COMPLETE|\n",
      "|    1003|2013-09-01|                3|     PENDING|\n",
      "+--------+----------+-----------------+------------+\n",
      "\n"
     ]
    }
   ],
   "source": [
    "orders_df.filter(dayofmonth(col(\"order_date\")) == 1).show()\n"
   ]
  },
  {
   "cell_type": "markdown",
   "id": "17143bd2",
   "metadata": {},
   "source": [
    "(i) Get count by status from orders"
   ]
  },
  {
   "cell_type": "code",
   "execution_count": 12,
   "id": "d0975c10",
   "metadata": {},
   "outputs": [
    {
     "name": "stdout",
     "output_type": "stream",
     "text": [
      "+------------+-----+\n",
      "|order_status|count|\n",
      "+------------+-----+\n",
      "|    COMPLETE|    2|\n",
      "|      CLOSED|    1|\n",
      "|     PENDING|    1|\n",
      "+------------+-----+\n",
      "\n"
     ]
    }
   ],
   "source": [
    "orders_df.groupBy(\"order_status\").count().show()\n"
   ]
  },
  {
   "cell_type": "markdown",
   "id": "ab20437a",
   "metadata": {},
   "source": [
    "(j) Get revenue for each order id from order items"
   ]
  },
  {
   "cell_type": "code",
   "execution_count": 13,
   "id": "d13bdbc9",
   "metadata": {},
   "outputs": [
    {
     "name": "stdout",
     "output_type": "stream",
     "text": [
      "+-------------------+-------------+\n",
      "|order_item_order_id|order_revenue|\n",
      "+-------------------+-------------+\n",
      "|               1001|        61000|\n",
      "|               1002|        20000|\n",
      "|               1003|        60000|\n",
      "|               1004|         1500|\n",
      "+-------------------+-------------+\n",
      "\n"
     ]
    }
   ],
   "source": [
    "order_items_df.groupBy(\"order_item_order_id\").agg(_sum(\"order_item_subtotal\").alias(\"order_revenue\")).show()\n"
   ]
  },
  {
   "cell_type": "markdown",
   "id": "15dd37eb",
   "metadata": {},
   "source": [
    "(k) Get daily product revenue"
   ]
  },
  {
   "cell_type": "code",
   "execution_count": 14,
   "id": "0c633eaf",
   "metadata": {},
   "outputs": [
    {
     "name": "stdout",
     "output_type": "stream",
     "text": [
      "+----------+---------------------+---------------------+\n",
      "|order_date|order_item_product_id|daily_product_revenue|\n",
      "+----------+---------------------+---------------------+\n",
      "|2013-08-15|                  102|                20000|\n",
      "|2013-09-10|                  103|                 1500|\n",
      "|2013-08-01|                  101|                60000|\n",
      "|2013-09-01|                  104|                60000|\n",
      "|2013-08-01|                  103|                 1000|\n",
      "+----------+---------------------+---------------------+\n",
      "\n"
     ]
    }
   ],
   "source": [
    "daily_revenue = orders_df.join(order_items_df, orders_df.order_id == order_items_df.order_item_order_id) \\\n",
    "    .groupBy(\"order_date\", \"order_item_product_id\") \\\n",
    "    .agg(_sum(\"order_item_subtotal\").alias(\"daily_product_revenue\"))\n",
    "\n",
    "daily_revenue.show()\n"
   ]
  }
 ],
 "metadata": {
  "kernelspec": {
   "display_name": "Python 3",
   "language": "python",
   "name": "python3"
  },
  "language_info": {
   "codemirror_mode": {
    "name": "ipython",
    "version": 3
   },
   "file_extension": ".py",
   "mimetype": "text/x-python",
   "name": "python",
   "nbconvert_exporter": "python",
   "pygments_lexer": "ipython3",
   "version": "3.11.0"
  }
 },
 "nbformat": 4,
 "nbformat_minor": 5
}
