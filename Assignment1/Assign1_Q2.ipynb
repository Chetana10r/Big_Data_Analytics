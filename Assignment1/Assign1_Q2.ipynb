{
 "cells": [
  {
   "cell_type": "code",
   "execution_count": 1,
   "id": "3616156c",
   "metadata": {},
   "outputs": [
    {
     "data": {
      "text/html": [
       "\n",
       "        <div>\n",
       "            <p><b>SparkContext</b></p>\n",
       "\n",
       "            <p><a href=\"http://LAPTOP-BJRVRTC3:4040\">Spark UI</a></p>\n",
       "\n",
       "            <dl>\n",
       "              <dt>Version</dt>\n",
       "                <dd><code>v3.5.6</code></dd>\n",
       "              <dt>Master</dt>\n",
       "                <dd><code>local[*]</code></dd>\n",
       "              <dt>AppName</dt>\n",
       "                <dd><code>MyAppName</code></dd>\n",
       "            </dl>\n",
       "        </div>\n",
       "        "
      ],
      "text/plain": [
       "<SparkContext master=local[*] appName=MyAppName>"
      ]
     },
     "execution_count": 1,
     "metadata": {},
     "output_type": "execute_result"
    }
   ],
   "source": [
    "import findspark\n",
    "findspark.init()\n",
    "import pyspark\n",
    "sc=pyspark.SparkContext(appName=\"MyAppName\")\n",
    "sc"
   ]
  },
  {
   "cell_type": "code",
   "execution_count": 2,
   "id": "d8b4de3c",
   "metadata": {},
   "outputs": [],
   "source": [
    "from pyspark.sql import SparkSession\n",
    "from pyspark.sql.functions import col\n",
    "\n",
    "# Create Spark Session\n",
    "spark = SparkSession.builder.appName(\"AssignmentOne\").getOrCreate()\n"
   ]
  },
  {
   "cell_type": "code",
   "execution_count": 3,
   "id": "407e0311",
   "metadata": {},
   "outputs": [],
   "source": [
    "from pyspark.sql import Row\n",
    "\n",
    "emp_data = [\n",
    "    (1, \"Amit\", \"Manager\", \"Pune\", 50000, 10),\n",
    "    (2, \"Priya\", \"Analyst\", \"Mumbai\", 25000, 20),\n",
    "    (3, \"Ravi\", \"Developer\", \"Delhi\", 18000, 10),\n",
    "    (4, \"Sneha\", \"Manager\", \"Pune\", 60000, 30),\n",
    "    (5, \"Karan\", \"Analyst\", \"Nagpur\", 15000, 20)\n",
    "]\n",
    "\n",
    "emp_columns = [\"eno\", \"ename\", \"designation\", \"city\", \"salary\", \"dno\"]\n",
    "\n",
    "emp_df = spark.createDataFrame(emp_data, emp_columns)\n",
    "\n",
    "dept_data = [\n",
    "    (10, \"IT\"),\n",
    "    (20, \"HR\"),\n",
    "    (30, \"Finance\")\n",
    "]\n",
    "\n",
    "dept_columns = [\"dno\", \"dname\"]\n",
    "\n",
    "dept_df = spark.createDataFrame(dept_data, dept_columns)\n"
   ]
  },
  {
   "cell_type": "code",
   "execution_count": 4,
   "id": "7246117e",
   "metadata": {},
   "outputs": [
    {
     "name": "stdout",
     "output_type": "stream",
     "text": [
      "root\n",
      " |-- eno: long (nullable = true)\n",
      " |-- ename: string (nullable = true)\n",
      " |-- designation: string (nullable = true)\n",
      " |-- city: string (nullable = true)\n",
      " |-- salary: long (nullable = true)\n",
      " |-- dno: long (nullable = true)\n",
      "\n",
      "root\n",
      " |-- dno: long (nullable = true)\n",
      " |-- dname: string (nullable = true)\n",
      "\n"
     ]
    }
   ],
   "source": [
    "# Print schema\n",
    "emp_df.printSchema()\n",
    "dept_df.printSchema()"
   ]
  },
  {
   "cell_type": "code",
   "execution_count": 5,
   "id": "e7bc638d",
   "metadata": {},
   "outputs": [
    {
     "name": "stdout",
     "output_type": "stream",
     "text": [
      "+---+-----+-----------+------+------+---+\n",
      "|eno|ename|designation|  city|salary|dno|\n",
      "+---+-----+-----------+------+------+---+\n",
      "|  2|Priya|    Analyst|Mumbai| 25000| 20|\n",
      "|  5|Karan|    Analyst|Nagpur| 15000| 20|\n",
      "+---+-----+-----------+------+------+---+\n",
      "\n"
     ]
    }
   ],
   "source": [
    "# Filter emp based on designation\n",
    "emp_df.filter(col(\"designation\") == \"Analyst\").show()"
   ]
  },
  {
   "cell_type": "code",
   "execution_count": 6,
   "id": "7699b713",
   "metadata": {},
   "outputs": [
    {
     "name": "stdout",
     "output_type": "stream",
     "text": [
      "+---+-----+-----------+------+------+---+\n",
      "|eno|ename|designation|  city|salary|dno|\n",
      "+---+-----+-----------+------+------+---+\n",
      "|  1| Amit|    Manager|  Pune| 50000| 10|\n",
      "|  2|Priya|    Analyst|Mumbai| 25000| 20|\n",
      "|  4|Sneha|    Manager|  Pune| 60000| 30|\n",
      "+---+-----+-----------+------+------+---+\n",
      "\n"
     ]
    }
   ],
   "source": [
    "# Filter emp based on salary\n",
    "emp_df.filter(col(\"salary\") > 20000).show()"
   ]
  },
  {
   "cell_type": "code",
   "execution_count": 7,
   "id": "ac03ca88",
   "metadata": {},
   "outputs": [
    {
     "name": "stdout",
     "output_type": "stream",
     "text": [
      "+---+-----+-----------+------+------+---+\n",
      "|eno|ename|designation|  city|salary|dno|\n",
      "+---+-----+-----------+------+------+---+\n",
      "|  2|Priya|    Analyst|Mumbai| 25000| 20|\n",
      "|  4|Sneha|    Manager|  Pune| 60000| 30|\n",
      "+---+-----+-----------+------+------+---+\n",
      "\n"
     ]
    }
   ],
   "source": [
    "# Show data of departments for female employees (assume ename ending with 'a' are female)\n",
    "female_emp = emp_df.filter(col(\"ename\").endswith(\"a\"))\n",
    "female_emp.show()"
   ]
  },
  {
   "cell_type": "code",
   "execution_count": 14,
   "id": "10214997",
   "metadata": {},
   "outputs": [
    {
     "name": "stdout",
     "output_type": "stream",
     "text": [
      "+---+-----+-----------+---------+-----------------+---+\n",
      "|eno|ename|designation|     city|           salary|dno|\n",
      "+---+-----+-----------+---------+-----------------+---+\n",
      "|  1| Amit|    Manager|     Pune|55000.00000000001| 10|\n",
      "|  2|Priya|    Analyst|   Mumbai|          25000.0| 20|\n",
      "|  3| Ravi|  Developer|    Delhi|          18000.0| 10|\n",
      "|  4|Sneha|    Manager|     Pune|          66000.0| 30|\n",
      "|  5|Karan|    Analyst|   Nagpur|          15000.0| 20|\n",
      "|  6|Rahul|     Tester|Bangalore|          22000.0| 10|\n",
      "|  7|Meena|         HR|   Mumbai|          19000.0| 20|\n",
      "|  8|Vikas|  Developer|     Pune|          17000.0| 30|\n",
      "+---+-----+-----------+---------+-----------------+---+\n",
      "\n"
     ]
    }
   ],
   "source": [
    "from pyspark.sql.functions import when, col\n",
    "\n",
    "# Increase salary of managers by 10%\n",
    "emp_df = emp_df.withColumn(\n",
    "    \"salary\",\n",
    "    when(col(\"designation\") == \"Manager\", col(\"salary\") * 1.1)  # +10% for Managers\n",
    "    .otherwise(col(\"salary\"))  # keep same for others\n",
    ")\n",
    "\n",
    "emp_df.show()\n"
   ]
  },
  {
   "cell_type": "code",
   "execution_count": 10,
   "id": "eac5533b",
   "metadata": {},
   "outputs": [],
   "source": [
    "# Add 3 more records\n",
    "extra_data = [\n",
    "    (6, \"Rahul\", \"Tester\", \"Bangalore\", 22000, 10),\n",
    "    (7, \"Meena\", \"HR\", \"Mumbai\", 19000, 20),\n",
    "    (8, \"Vikas\", \"Developer\", \"Pune\", 17000, 30)\n",
    "]\n",
    "extra_df = spark.createDataFrame(extra_data, emp_columns)\n",
    "emp_df = emp_df.union(extra_df)"
   ]
  },
  {
   "cell_type": "code",
   "execution_count": 11,
   "id": "bf973b93",
   "metadata": {},
   "outputs": [
    {
     "name": "stdout",
     "output_type": "stream",
     "text": [
      "+---+---+-----+-----------+---------+------+-------+\n",
      "|dno|eno|ename|designation|     city|salary|  dname|\n",
      "+---+---+-----+-----------+---------+------+-------+\n",
      "| 10|  1| Amit|    Manager|     Pune| 50000|     IT|\n",
      "| 10|  3| Ravi|  Developer|    Delhi| 18000|     IT|\n",
      "| 10|  6|Rahul|     Tester|Bangalore| 22000|     IT|\n",
      "| 20|  2|Priya|    Analyst|   Mumbai| 25000|     HR|\n",
      "| 20|  5|Karan|    Analyst|   Nagpur| 15000|     HR|\n",
      "| 20|  7|Meena|         HR|   Mumbai| 19000|     HR|\n",
      "| 30|  4|Sneha|    Manager|     Pune| 60000|Finance|\n",
      "| 30|  8|Vikas|  Developer|     Pune| 17000|Finance|\n",
      "+---+---+-----+-----------+---------+------+-------+\n",
      "\n"
     ]
    }
   ],
   "source": [
    "# Join employee and dept\n",
    "emp_with_dept = emp_df.join(dept_df, \"dno\")\n",
    "emp_with_dept.show()\n"
   ]
  },
  {
   "cell_type": "code",
   "execution_count": 12,
   "id": "94e7b757",
   "metadata": {},
   "outputs": [
    {
     "name": "stdout",
     "output_type": "stream",
     "text": [
      "+-------+-----+\n",
      "|  dname|count|\n",
      "+-------+-----+\n",
      "|     HR|    3|\n",
      "|Finance|    2|\n",
      "|     IT|    3|\n",
      "+-------+-----+\n",
      "\n"
     ]
    }
   ],
   "source": [
    "# Department wise employees\n",
    "emp_with_dept.groupBy(\"dname\").count().show()"
   ]
  },
  {
   "cell_type": "code",
   "execution_count": 13,
   "id": "cbcf1f00",
   "metadata": {},
   "outputs": [
    {
     "name": "stdout",
     "output_type": "stream",
     "text": [
      "+---+-----+-----------+------+------+---+\n",
      "|eno|ename|designation|  city|salary|dno|\n",
      "+---+-----+-----------+------+------+---+\n",
      "|  5|Karan|    Analyst|Nagpur| 15000| 20|\n",
      "+---+-----+-----------+------+------+---+\n",
      "\n"
     ]
    }
   ],
   "source": [
    "# Employees with salary < 20000 and designation = 'Analyst'\n",
    "emp_df.filter((col(\"salary\") < 20000) & (col(\"designation\") == \"Analyst\")).show()"
   ]
  }
 ],
 "metadata": {
  "kernelspec": {
   "display_name": "Python 3",
   "language": "python",
   "name": "python3"
  },
  "language_info": {
   "codemirror_mode": {
    "name": "ipython",
    "version": 3
   },
   "file_extension": ".py",
   "mimetype": "text/x-python",
   "name": "python",
   "nbconvert_exporter": "python",
   "pygments_lexer": "ipython3",
   "version": "3.11.0"
  }
 },
 "nbformat": 4,
 "nbformat_minor": 5
}
