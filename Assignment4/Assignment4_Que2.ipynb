{
 "cells": [
  {
   "cell_type": "markdown",
   "metadata": {},
   "source": [
    "# Run this file in DataBricks"
   ]
  },
  {
   "cell_type": "markdown",
   "metadata": {
    "application/vnd.databricks.v1+cell": {
     "cellMetadata": {},
     "inputWidgets": {},
     "nuid": "31fdd43d-5f80-43f8-91c1-98e2e6aa5df4",
     "showTitle": false,
     "tableResultSettingsMap": {},
     "title": ""
    }
   },
   "source": [
    "Q2.Consider Student schema where many students learn many subjects . A teacher teaches many subjects. Prepare a database and SQL tables. \n",
    "Perform SQL queries using basic features, aggregation, nested  queries.\n"
   ]
  },
  {
   "cell_type": "markdown",
   "metadata": {
    "application/vnd.databricks.v1+cell": {
     "cellMetadata": {},
     "inputWidgets": {},
     "nuid": "7db94c19-0d41-452e-84bd-497be5c3175b",
     "showTitle": false,
     "tableResultSettingsMap": {},
     "title": ""
    }
   },
   "source": [
    "Step 1: Import Libraries & Create Spark Session"
   ]
  },
  {
   "cell_type": "markdown",
   "metadata": {
    "application/vnd.databricks.v1+cell": {
     "cellMetadata": {},
     "inputWidgets": {},
     "nuid": "f9b081c4-228a-4a21-9c83-0dc176c23017",
     "showTitle": false,
     "tableResultSettingsMap": {},
     "title": ""
    }
   },
   "source": [
    "Create a Spark session (Databricks already provides spark object, but we do it explicitly for clarity)."
   ]
  },
  {
   "cell_type": "code",
   "execution_count": 0,
   "metadata": {
    "application/vnd.databricks.v1+cell": {
     "cellMetadata": {
      "byteLimit": 2048000,
      "rowLimit": 10000
     },
     "inputWidgets": {},
     "nuid": "e69b261f-0f62-47ee-8749-4394f5965c07",
     "showTitle": false,
     "tableResultSettingsMap": {},
     "title": ""
    }
   },
   "outputs": [],
   "source": [
    "# Import PySpark libraries\n",
    "from pyspark.sql import SparkSession\n",
    "from pyspark.sql.functions import col, count, avg\n",
    "\n",
    "# Create Spark session (if not already available)\n",
    "spark = SparkSession.builder.appName(\"StudentSubjectTeacherDB\").getOrCreate()\n"
   ]
  },
  {
   "cell_type": "markdown",
   "metadata": {
    "application/vnd.databricks.v1+cell": {
     "cellMetadata": {},
     "inputWidgets": {},
     "nuid": "deb7415e-c8b6-4b36-9a02-0fb4bf516d6b",
     "showTitle": false,
     "tableResultSettingsMap": {},
     "title": ""
    }
   },
   "source": [
    "Step 2: Create DataFrames for Students, Subjects, Teachers"
   ]
  },
  {
   "cell_type": "markdown",
   "metadata": {
    "application/vnd.databricks.v1+cell": {
     "cellMetadata": {},
     "inputWidgets": {},
     "nuid": "764a7c51-e18b-407d-96df-1d899d417db8",
     "showTitle": false,
     "tableResultSettingsMap": {},
     "title": ""
    }
   },
   "source": [
    "We will define sample data as Python lists and create DataFrames."
   ]
  },
  {
   "cell_type": "code",
   "execution_count": 0,
   "metadata": {
    "application/vnd.databricks.v1+cell": {
     "cellMetadata": {
      "byteLimit": 2048000,
      "rowLimit": 10000
     },
     "inputWidgets": {},
     "nuid": "3eefab59-656d-4328-82b0-c5b229146a20",
     "showTitle": false,
     "tableResultSettingsMap": {},
     "title": ""
    }
   },
   "outputs": [
    {
     "name": "stdout",
     "output_type": "stream",
     "text": [
      "+----------+------------+\n",
      "|student_id|student_name|\n",
      "+----------+------------+\n",
      "|         1|       Alice|\n",
      "|         2|         Bob|\n",
      "|         3|     Charlie|\n",
      "+----------+------------+\n",
      "\n",
      "+----------+------------+\n",
      "|subject_id|subject_name|\n",
      "+----------+------------+\n",
      "|       101|        Math|\n",
      "|       102|     Physics|\n",
      "|       103|   Chemistry|\n",
      "+----------+------------+\n",
      "\n",
      "+----------+------------+\n",
      "|teacher_id|teacher_name|\n",
      "+----------+------------+\n",
      "|       201|   Mr. Smith|\n",
      "|       202|Mrs. Johnson|\n",
      "+----------+------------+\n",
      "\n"
     ]
    }
   ],
   "source": [
    "# Sample Data\n",
    "\n",
    "# Students\n",
    "students_data = [(1, \"Alice\"), (2, \"Bob\"), (3, \"Charlie\")]\n",
    "students_columns = [\"student_id\", \"student_name\"]\n",
    "students_df = spark.createDataFrame(students_data, students_columns)\n",
    "\n",
    "# Subjects\n",
    "subjects_data = [(101, \"Math\"), (102, \"Physics\"), (103, \"Chemistry\")]\n",
    "subjects_columns = [\"subject_id\", \"subject_name\"]\n",
    "subjects_df = spark.createDataFrame(subjects_data, subjects_columns)\n",
    "\n",
    "# Teachers\n",
    "teachers_data = [(201, \"Mr. Smith\"), (202, \"Mrs. Johnson\")]\n",
    "teachers_columns = [\"teacher_id\", \"teacher_name\"]\n",
    "teachers_df = spark.createDataFrame(teachers_data, teachers_columns)\n",
    "\n",
    "# Show DataFrames\n",
    "students_df.show()\n",
    "subjects_df.show()\n",
    "teachers_df.show()\n"
   ]
  },
  {
   "cell_type": "markdown",
   "metadata": {
    "application/vnd.databricks.v1+cell": {
     "cellMetadata": {},
     "inputWidgets": {},
     "nuid": "a0a08243-d826-4269-bd04-53cb34a11791",
     "showTitle": false,
     "tableResultSettingsMap": {},
     "title": ""
    }
   },
   "source": [
    "Step 3: Create Many-to-Many Relationships"
   ]
  },
  {
   "cell_type": "markdown",
   "metadata": {
    "application/vnd.databricks.v1+cell": {
     "cellMetadata": {},
     "inputWidgets": {},
     "nuid": "a5625128-3d73-4960-a186-d82994db86b3",
     "showTitle": false,
     "tableResultSettingsMap": {},
     "title": ""
    }
   },
   "source": [
    "Student_Subject (which student takes which subject)\n",
    "\n",
    "Teacher_Subject (which teacher teaches which subject)"
   ]
  },
  {
   "cell_type": "code",
   "execution_count": 0,
   "metadata": {
    "application/vnd.databricks.v1+cell": {
     "cellMetadata": {
      "byteLimit": 2048000,
      "rowLimit": 10000
     },
     "inputWidgets": {},
     "nuid": "407f73b3-15c9-4cb0-9d00-8ae5f28378b8",
     "showTitle": false,
     "tableResultSettingsMap": {},
     "title": ""
    }
   },
   "outputs": [
    {
     "name": "stdout",
     "output_type": "stream",
     "text": [
      "+----------+----------+\n",
      "|student_id|subject_id|\n",
      "+----------+----------+\n",
      "|         1|       101|\n",
      "|         1|       102|\n",
      "|         2|       101|\n",
      "|         2|       103|\n",
      "|         3|       102|\n",
      "+----------+----------+\n",
      "\n",
      "+----------+----------+\n",
      "|teacher_id|subject_id|\n",
      "+----------+----------+\n",
      "|       201|       101|\n",
      "|       201|       102|\n",
      "|       202|       103|\n",
      "+----------+----------+\n",
      "\n"
     ]
    }
   ],
   "source": [
    "# Many-to-many relationship\n",
    "\n",
    "# Student-Subject mapping\n",
    "student_subject_data = [(1, 101), (1, 102), (2, 101), (2, 103), (3, 102)]\n",
    "student_subject_columns = [\"student_id\", \"subject_id\"]\n",
    "student_subject_df = spark.createDataFrame(student_subject_data, student_subject_columns)\n",
    "\n",
    "# Teacher-Subject mapping\n",
    "teacher_subject_data = [(201, 101), (201, 102), (202, 103)]\n",
    "teacher_subject_columns = [\"teacher_id\", \"subject_id\"]\n",
    "teacher_subject_df = spark.createDataFrame(teacher_subject_data, teacher_subject_columns)\n",
    "\n",
    "# Show DataFrames\n",
    "student_subject_df.show()\n",
    "teacher_subject_df.show()\n"
   ]
  },
  {
   "cell_type": "markdown",
   "metadata": {
    "application/vnd.databricks.v1+cell": {
     "cellMetadata": {},
     "inputWidgets": {},
     "nuid": "ada7bffe-d888-4e6c-b43c-678f1eaf1653",
     "showTitle": false,
     "tableResultSettingsMap": {},
     "title": ""
    }
   },
   "source": [
    "Step 4: Create Temporary Views for SQL Queries"
   ]
  },
  {
   "cell_type": "markdown",
   "metadata": {
    "application/vnd.databricks.v1+cell": {
     "cellMetadata": {},
     "inputWidgets": {},
     "nuid": "84cd17a6-4198-4c9d-915f-ae20a267b590",
     "showTitle": false,
     "tableResultSettingsMap": {},
     "title": ""
    }
   },
   "source": [
    "Databricks allows you to use SQL via spark.sql using temporary views."
   ]
  },
  {
   "cell_type": "code",
   "execution_count": 0,
   "metadata": {
    "application/vnd.databricks.v1+cell": {
     "cellMetadata": {
      "byteLimit": 2048000,
      "rowLimit": 10000
     },
     "inputWidgets": {},
     "nuid": "e4e5ba27-6997-4b3e-b329-13bd9ee14e5e",
     "showTitle": false,
     "tableResultSettingsMap": {},
     "title": ""
    }
   },
   "outputs": [],
   "source": [
    "# Create SQL temporary views\n",
    "students_df.createOrReplaceTempView(\"students\")\n",
    "subjects_df.createOrReplaceTempView(\"subjects\")\n",
    "teachers_df.createOrReplaceTempView(\"teachers\")\n",
    "student_subject_df.createOrReplaceTempView(\"student_subject\")\n",
    "teacher_subject_df.createOrReplaceTempView(\"teacher_subject\")\n"
   ]
  },
  {
   "cell_type": "markdown",
   "metadata": {
    "application/vnd.databricks.v1+cell": {
     "cellMetadata": {},
     "inputWidgets": {},
     "nuid": "9bdf06fc-2331-4c4e-835d-39ffcf305ac9",
     "showTitle": false,
     "tableResultSettingsMap": {},
     "title": ""
    }
   },
   "source": [
    "Step 5: Basic SQL Queries"
   ]
  },
  {
   "cell_type": "code",
   "execution_count": 0,
   "metadata": {
    "application/vnd.databricks.v1+cell": {
     "cellMetadata": {
      "byteLimit": 2048000,
      "rowLimit": 10000
     },
     "inputWidgets": {},
     "nuid": "05cb2ee5-ec17-4cb8-9e7c-2399417c192a",
     "showTitle": false,
     "tableResultSettingsMap": {},
     "title": ""
    }
   },
   "outputs": [
    {
     "name": "stdout",
     "output_type": "stream",
     "text": [
      "+------------+------------+\n",
      "|student_name|subject_name|\n",
      "+------------+------------+\n",
      "|       Alice|        Math|\n",
      "|       Alice|     Physics|\n",
      "|         Bob|        Math|\n",
      "|         Bob|   Chemistry|\n",
      "|     Charlie|     Physics|\n",
      "+------------+------------+\n",
      "\n",
      "+------------+------------+\n",
      "|teacher_name|subject_name|\n",
      "+------------+------------+\n",
      "|   Mr. Smith|        Math|\n",
      "|   Mr. Smith|     Physics|\n",
      "|Mrs. Johnson|   Chemistry|\n",
      "+------------+------------+\n",
      "\n"
     ]
    }
   ],
   "source": [
    "# Basic Query - List all students with their subjects\n",
    "query1 = \"\"\"\n",
    "SELECT s.student_name, sub.subject_name\n",
    "FROM students s\n",
    "JOIN student_subject ss ON s.student_id = ss.student_id\n",
    "JOIN subjects sub ON ss.subject_id = sub.subject_id\n",
    "\"\"\"\n",
    "spark.sql(query1).show()\n",
    "\n",
    "# List all teachers with the subjects they teach\n",
    "query2 = \"\"\"\n",
    "SELECT t.teacher_name, sub.subject_name\n",
    "FROM teachers t\n",
    "JOIN teacher_subject ts ON t.teacher_id = ts.teacher_id\n",
    "JOIN subjects sub ON ts.subject_id = sub.subject_id\n",
    "\"\"\"\n",
    "spark.sql(query2).show()\n"
   ]
  },
  {
   "cell_type": "markdown",
   "metadata": {
    "application/vnd.databricks.v1+cell": {
     "cellMetadata": {},
     "inputWidgets": {},
     "nuid": "f214cbd0-b24a-4089-a03e-f7260247a9c9",
     "showTitle": false,
     "tableResultSettingsMap": {},
     "title": ""
    }
   },
   "source": [
    "Step 6: Aggregation Queries"
   ]
  },
  {
   "cell_type": "markdown",
   "metadata": {
    "application/vnd.databricks.v1+cell": {
     "cellMetadata": {},
     "inputWidgets": {},
     "nuid": "7898d052-b7f8-498f-8e1c-6a981221bdf8",
     "showTitle": false,
     "tableResultSettingsMap": {},
     "title": ""
    }
   },
   "source": [
    "Example: Count of students per subject, count of subjects per teacher"
   ]
  },
  {
   "cell_type": "code",
   "execution_count": 0,
   "metadata": {
    "application/vnd.databricks.v1+cell": {
     "cellMetadata": {
      "byteLimit": 2048000,
      "rowLimit": 10000
     },
     "inputWidgets": {},
     "nuid": "c6344387-6bca-4e8b-874f-156cbbc6b5b5",
     "showTitle": false,
     "tableResultSettingsMap": {},
     "title": ""
    }
   },
   "outputs": [
    {
     "name": "stdout",
     "output_type": "stream",
     "text": [
      "+------------+------------+\n",
      "|subject_name|num_students|\n",
      "+------------+------------+\n",
      "|        Math|           2|\n",
      "|     Physics|           2|\n",
      "|   Chemistry|           1|\n",
      "+------------+------------+\n",
      "\n",
      "+------------+------------+\n",
      "|teacher_name|num_subjects|\n",
      "+------------+------------+\n",
      "|   Mr. Smith|           2|\n",
      "|Mrs. Johnson|           1|\n",
      "+------------+------------+\n",
      "\n"
     ]
    }
   ],
   "source": [
    "# Count of students in each subject\n",
    "query3 = \"\"\"\n",
    "SELECT sub.subject_name, COUNT(ss.student_id) AS num_students\n",
    "FROM subjects sub\n",
    "JOIN student_subject ss ON sub.subject_id = ss.subject_id\n",
    "GROUP BY sub.subject_name\n",
    "\"\"\"\n",
    "spark.sql(query3).show()\n",
    "\n",
    "# Count of subjects each teacher teaches\n",
    "query4 = \"\"\"\n",
    "SELECT t.teacher_name, COUNT(ts.subject_id) AS num_subjects\n",
    "FROM teachers t\n",
    "JOIN teacher_subject ts ON t.teacher_id = ts.teacher_id\n",
    "GROUP BY t.teacher_name\n",
    "\"\"\"\n",
    "spark.sql(query4).show()\n"
   ]
  },
  {
   "cell_type": "markdown",
   "metadata": {
    "application/vnd.databricks.v1+cell": {
     "cellMetadata": {},
     "inputWidgets": {},
     "nuid": "bb93a42a-1c0d-4a04-b7a0-1c88eb494648",
     "showTitle": false,
     "tableResultSettingsMap": {},
     "title": ""
    }
   },
   "source": [
    "Step 7: Nested Queries"
   ]
  },
  {
   "cell_type": "markdown",
   "metadata": {
    "application/vnd.databricks.v1+cell": {
     "cellMetadata": {},
     "inputWidgets": {},
     "nuid": "0be6c8eb-9e03-4fd2-a8e7-7dca01e2071b",
     "showTitle": false,
     "tableResultSettingsMap": {},
     "title": ""
    }
   },
   "source": [
    "Example: Find students who are learning subjects taught by \"Mr. Smith\""
   ]
  },
  {
   "cell_type": "code",
   "execution_count": 0,
   "metadata": {
    "application/vnd.databricks.v1+cell": {
     "cellMetadata": {
      "byteLimit": 2048000,
      "rowLimit": 10000
     },
     "inputWidgets": {},
     "nuid": "49970c93-4a71-4d54-be8d-1b7c987c3d7c",
     "showTitle": false,
     "tableResultSettingsMap": {},
     "title": ""
    }
   },
   "outputs": [
    {
     "name": "stdout",
     "output_type": "stream",
     "text": [
      "+------------+\n",
      "|student_name|\n",
      "+------------+\n",
      "|       Alice|\n",
      "|         Bob|\n",
      "|     Charlie|\n",
      "+------------+\n",
      "\n"
     ]
    }
   ],
   "source": [
    "# Cell 10: Nested Query\n",
    "query5 = \"\"\"\n",
    "SELECT student_name\n",
    "FROM students\n",
    "WHERE student_id IN (\n",
    "    SELECT student_id\n",
    "    FROM student_subject\n",
    "    WHERE subject_id IN (\n",
    "        SELECT subject_id\n",
    "        FROM teacher_subject\n",
    "        WHERE teacher_id = (SELECT teacher_id FROM teachers WHERE teacher_name='Mr. Smith')\n",
    "    )\n",
    ")\n",
    "\"\"\"\n",
    "spark.sql(query5).show()\n"
   ]
  },
  {
   "cell_type": "markdown",
   "metadata": {
    "application/vnd.databricks.v1+cell": {
     "cellMetadata": {},
     "inputWidgets": {},
     "nuid": "6cc12028-af07-4a39-8a90-37de01058e7d",
     "showTitle": false,
     "tableResultSettingsMap": {},
     "title": ""
    }
   },
   "source": [
    "Step 8: Save DataFrames as Tables"
   ]
  },
  {
   "cell_type": "markdown",
   "metadata": {
    "application/vnd.databricks.v1+cell": {
     "cellMetadata": {},
     "inputWidgets": {},
     "nuid": "3433c546-0363-43fe-9650-35bdddcc1690",
     "showTitle": false,
     "tableResultSettingsMap": {},
     "title": ""
    }
   },
   "source": [
    "You can save these as permanent tables in Databricks."
   ]
  },
  {
   "cell_type": "code",
   "execution_count": 0,
   "metadata": {
    "application/vnd.databricks.v1+cell": {
     "cellMetadata": {
      "byteLimit": 2048000,
      "rowLimit": 10000
     },
     "inputWidgets": {},
     "nuid": "d1b86768-f6ca-40fc-a149-4c39ee3af6e6",
     "showTitle": false,
     "tableResultSettingsMap": {},
     "title": ""
    }
   },
   "outputs": [],
   "source": [
    "# Save DataFrames as tables\n",
    "students_df.write.mode(\"overwrite\").saveAsTable(\"students_table\")\n",
    "subjects_df.write.mode(\"overwrite\").saveAsTable(\"subjects_table\")\n",
    "teachers_df.write.mode(\"overwrite\").saveAsTable(\"teachers_table\")\n",
    "student_subject_df.write.mode(\"overwrite\").saveAsTable(\"student_subject_table\")\n",
    "teacher_subject_df.write.mode(\"overwrite\").saveAsTable(\"teacher_subject_table\")\n"
   ]
  }
 ],
 "metadata": {
  "application/vnd.databricks.v1+notebook": {
   "computePreferences": null,
   "dashboards": [],
   "environmentMetadata": {
    "base_environment": "",
    "environment_version": "3"
   },
   "inputWidgetPreferences": null,
   "language": "python",
   "notebookMetadata": {
    "pythonIndentUnit": 4
   },
   "notebookName": "Assignment4_Que2",
   "widgets": {}
  },
  "language_info": {
   "name": "python"
  }
 },
 "nbformat": 4,
 "nbformat_minor": 0
}
