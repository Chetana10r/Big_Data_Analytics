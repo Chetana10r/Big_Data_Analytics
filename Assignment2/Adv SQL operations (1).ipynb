{
 "cells": [
  {
   "cell_type": "code",
   "execution_count": 1,
   "metadata": {},
   "outputs": [],
   "source": [
    "import findspark\n",
    "findspark.init()\n",
    "import pandas as pd\n",
    "import pyspark\n",
    "from pyspark.sql import SparkSession\n",
    "from pyspark.sql.functions import col, lit, when, concat_ws, upper, lower, avg, sum, count, udf, max, min,concat_ws, upper, lower, length, substring, instr, trim, lpad, rpad\n",
    "from pyspark.sql.types import StringType, IntegerType, DoubleType\n"
   ]
  },
  {
   "cell_type": "code",
   "execution_count": 2,
   "metadata": {},
   "outputs": [],
   "source": [
    "spark = SparkSession.builder.appName(\"AdvancedSQL_UDFs_DepartmentEmployee\").getOrCreate()"
   ]
  },
  {
   "cell_type": "code",
   "execution_count": 3,
   "metadata": {},
   "outputs": [],
   "source": [
    "data_dept = [\n",
    "    (1, \"logistics\"),\n",
    "    (2, \"Accounts\"),\n",
    "    (3, \"DS\"),\n",
    "    (4, \"Marketing\")\n",
    "]\n",
    "\n",
    "columns_dept = [\"dept_id\", \"dept_name\"]\n"
   ]
  },
  {
   "cell_type": "code",
   "execution_count": 4,
   "metadata": {},
   "outputs": [],
   "source": [
    "data_emp = [\n",
    "    (1, \"A\", 34, 1, 50000),\n",
    "    (2, \"B\", 45, 2, 60000),\n",
    "    (3, \"C\", 29, 3, 55000),\n",
    "    (4, \"D\", 40, 1, 70000),\n",
    "    (5, \"E\", 31, 2, 48000),\n",
    "    (6, \"F\", 38, 3, 72000)\n",
    "]\n",
    "\n",
    "columns_emp = [\"emp_id\", \"name\", \"age\", \"dept_id\", \"salary\"]\n"
   ]
  },
  {
   "cell_type": "code",
   "execution_count": 5,
   "metadata": {},
   "outputs": [
    {
     "name": "stdout",
     "output_type": "stream",
     "text": [
      "+------+----+---+-------+------+\n",
      "|emp_id|name|age|dept_id|salary|\n",
      "+------+----+---+-------+------+\n",
      "|     1|   A| 34|      1| 50000|\n",
      "|     2|   B| 45|      2| 60000|\n",
      "|     3|   C| 29|      3| 55000|\n",
      "|     4|   D| 40|      1| 70000|\n",
      "|     5|   E| 31|      2| 48000|\n",
      "|     6|   F| 38|      3| 72000|\n",
      "+------+----+---+-------+------+\n",
      "\n",
      "+-------+---------+\n",
      "|dept_id|dept_name|\n",
      "+-------+---------+\n",
      "|      1|logistics|\n",
      "|      2| Accounts|\n",
      "|      3|       DS|\n",
      "|      4|Marketing|\n",
      "+-------+---------+\n",
      "\n"
     ]
    }
   ],
   "source": [
    "# Create DataFrames\n",
    "df_emp = spark.createDataFrame(data_emp, columns_emp)\n",
    "df_dept = spark.createDataFrame(data_dept, columns_dept)\n",
    "\n",
    "# Display sample data\n",
    "df_emp.show()\n",
    "df_dept.show()\n"
   ]
  },
  {
   "cell_type": "code",
   "execution_count": 6,
   "metadata": {},
   "outputs": [
    {
     "name": "stdout",
     "output_type": "stream",
     "text": [
      "+------+----+---+-------+------+\n",
      "|emp_id|name|age|dept_id|salary|\n",
      "+------+----+---+-------+------+\n",
      "|     1|   A| 34|      1| 50000|\n",
      "|     2|   B| 45|      2| 60000|\n",
      "|     3|   C| 29|      3| 55000|\n",
      "|     4|   D| 40|      1| 70000|\n",
      "|     5|   E| 31|      2| 48000|\n",
      "|     6|   F| 38|      3| 72000|\n",
      "+------+----+---+-------+------+\n",
      "\n"
     ]
    }
   ],
   "source": [
    "df_emp.show()"
   ]
  },
  {
   "cell_type": "code",
   "execution_count": 7,
   "metadata": {},
   "outputs": [
    {
     "name": "stdout",
     "output_type": "stream",
     "text": [
      "+-------+----------+\n",
      "|dept_id|avg_salary|\n",
      "+-------+----------+\n",
      "|      1|   60000.0|\n",
      "|      2|   54000.0|\n",
      "|      3|   63500.0|\n",
      "+-------+----------+\n",
      "\n"
     ]
    }
   ],
   "source": [
    "# Aggregations by department\n",
    "df_emp.groupBy(\"dept_id\").agg(\n",
    "    avg(\"salary\").alias(\"avg_salary\")).show()\n"
   ]
  },
  {
   "cell_type": "code",
   "execution_count": 8,
   "metadata": {},
   "outputs": [
    {
     "name": "stdout",
     "output_type": "stream",
     "text": [
      "+-------+------------+----------+----------+\n",
      "|dept_id|total_salary|max_salary|min_salary|\n",
      "+-------+------------+----------+----------+\n",
      "|      1|      120000|     70000|     50000|\n",
      "|      2|      108000|     60000|     48000|\n",
      "|      3|      127000|     72000|     55000|\n",
      "+-------+------------+----------+----------+\n",
      "\n"
     ]
    }
   ],
   "source": [
    "df_emp.groupBy(\"dept_id\").agg(\n",
    "    sum(\"salary\").alias(\"total_salary\"),\n",
    "    max(\"salary\").alias(\"max_salary\"),\n",
    "    min(\"salary\").alias(\"min_salary\")).show()"
   ]
  },
  {
   "cell_type": "code",
   "execution_count": 9,
   "metadata": {},
   "outputs": [
    {
     "name": "stdout",
     "output_type": "stream",
     "text": [
      "+-------+--------------+\n",
      "|dept_id|employee_count|\n",
      "+-------+--------------+\n",
      "|      1|             2|\n",
      "|      2|             2|\n",
      "|      3|             2|\n",
      "+-------+--------------+\n",
      "\n"
     ]
    }
   ],
   "source": [
    "df_emp.groupBy(\"dept_id\").agg(count(\"emp_id\").alias(\"employee_count\")).show()"
   ]
  },
  {
   "cell_type": "code",
   "execution_count": 10,
   "metadata": {},
   "outputs": [
    {
     "name": "stdout",
     "output_type": "stream",
     "text": [
      "+------+----+---+-------+------+----------+----------+\n",
      "|emp_id|name|age|dept_id|salary|name_upper|name_lower|\n",
      "+------+----+---+-------+------+----------+----------+\n",
      "|     1|   A| 34|      1| 50000|         A|         a|\n",
      "|     2|   B| 45|      2| 60000|         B|         b|\n",
      "|     3|   C| 29|      3| 55000|         C|         c|\n",
      "|     4|   D| 40|      1| 70000|         D|         d|\n",
      "|     5|   E| 31|      2| 48000|         E|         e|\n",
      "|     6|   F| 38|      3| 72000|         F|         f|\n",
      "+------+----+---+-------+------+----------+----------+\n",
      "\n"
     ]
    }
   ],
   "source": [
    "# String Functions\n",
    "df_emp.withColumn(\"name_upper\", upper(col(\"name\"))).withColumn(\"name_lower\", lower(col(\"name\"))).show()\n"
   ]
  },
  {
   "cell_type": "code",
   "execution_count": 11,
   "metadata": {},
   "outputs": [
    {
     "name": "stdout",
     "output_type": "stream",
     "text": [
      "+------+----+---+-------+------+-----------+\n",
      "|emp_id|name|age|dept_id|salary|name_length|\n",
      "+------+----+---+-------+------+-----------+\n",
      "|     1|   A| 34|      1| 50000|          1|\n",
      "|     2|   B| 45|      2| 60000|          1|\n",
      "|     3|   C| 29|      3| 55000|          1|\n",
      "|     4|   D| 40|      1| 70000|          1|\n",
      "|     5|   E| 31|      2| 48000|          1|\n",
      "|     6|   F| 38|      3| 72000|          1|\n",
      "+------+----+---+-------+------+-----------+\n",
      "\n"
     ]
    }
   ],
   "source": [
    "# 2. Find length of employee names\n",
    "df_emp.withColumn(\"name_length\", length(col(\"name\"))).show()\n"
   ]
  },
  {
   "cell_type": "code",
   "execution_count": 12,
   "metadata": {},
   "outputs": [
    {
     "name": "stdout",
     "output_type": "stream",
     "text": [
      "+------+----+---+-------+------+--------------+\n",
      "|emp_id|name|age|dept_id|salary|name_substring|\n",
      "+------+----+---+-------+------+--------------+\n",
      "|     1|   A| 34|      1| 50000|             A|\n",
      "|     2|   B| 45|      2| 60000|             B|\n",
      "|     3|   C| 29|      3| 55000|             C|\n",
      "|     4|   D| 40|      1| 70000|             D|\n",
      "|     5|   E| 31|      2| 48000|             E|\n",
      "|     6|   F| 38|      3| 72000|             F|\n",
      "+------+----+---+-------+------+--------------+\n",
      "\n",
      "+------+----+---+-------+------+---------+\n",
      "|emp_id|name|age|dept_id|salary|pos_smith|\n",
      "+------+----+---+-------+------+---------+\n",
      "|     1|   A| 34|      1| 50000|        0|\n",
      "|     2|   B| 45|      2| 60000|        0|\n",
      "|     3|   C| 29|      3| 55000|        0|\n",
      "|     4|   D| 40|      1| 70000|        0|\n",
      "|     5|   E| 31|      2| 48000|        0|\n",
      "|     6|   F| 38|      3| 72000|        0|\n",
      "+------+----+---+-------+------+---------+\n",
      "\n",
      "+------+----+---+-------+------+------------+\n",
      "|emp_id|name|age|dept_id|salary|trimmed_name|\n",
      "+------+----+---+-------+------+------------+\n",
      "|     1|   A| 34|      1| 50000|           A|\n",
      "|     2|   B| 45|      2| 60000|           B|\n",
      "|     3|   C| 29|      3| 55000|           C|\n",
      "|     4|   D| 40|      1| 70000|           D|\n",
      "|     5|   E| 31|      2| 48000|           E|\n",
      "|     6|   F| 38|      3| 72000|           F|\n",
      "+------+----+---+-------+------+------------+\n",
      "\n",
      "+------+----+---+-------+------+--------+\n",
      "|emp_id|name|age|dept_id|salary|emp_info|\n",
      "+------+----+---+-------+------+--------+\n",
      "|     1|   A| 34|      1| 50000|   A - 1|\n",
      "|     2|   B| 45|      2| 60000|   B - 2|\n",
      "|     3|   C| 29|      3| 55000|   C - 3|\n",
      "|     4|   D| 40|      1| 70000|   D - 1|\n",
      "|     5|   E| 31|      2| 48000|   E - 2|\n",
      "|     6|   F| 38|      3| 72000|   F - 3|\n",
      "+------+----+---+-------+------+--------+\n",
      "\n"
     ]
    }
   ],
   "source": [
    "# 3. Extract substring of name (first 5 characters)\n",
    "df_emp.withColumn(\"name_substring\", substring(col(\"name\"), 1, 5)).show()\n",
    "\n",
    "# 4. Find position of a substring (e.g., 'Smith' in name)\n",
    "df_emp.withColumn(\"pos_smith\", instr(col(\"name\"), \"Smith\")).show()\n",
    "\n",
    "# 5. Trim spaces from employee names\n",
    "df_emp.withColumn(\"trimmed_name\", trim(col(\"name\"))).show()\n",
    "\n",
    "# 6. Concatenate name and department ID\n",
    "df_emp.withColumn(\"emp_info\", concat_ws(\" - \", col(\"name\"), col(\"dept_id\"))).show()\n",
    "\n",
    "\n"
   ]
  },
  {
   "cell_type": "code",
   "execution_count": 13,
   "metadata": {},
   "outputs": [
    {
     "name": "stdout",
     "output_type": "stream",
     "text": [
      "+------+----+---+-------+------+------------+\n",
      "|emp_id|name|age|dept_id|salary|salary_level|\n",
      "+------+----+---+-------+------+------------+\n",
      "|     1|   A| 34|      1| 50000|         Low|\n",
      "|     2|   B| 45|      2| 60000|      Medium|\n",
      "|     3|   C| 29|      3| 55000|      Medium|\n",
      "|     4|   D| 40|      1| 70000|        High|\n",
      "|     5|   E| 31|      2| 48000|         Low|\n",
      "|     6|   F| 38|      3| 72000|        High|\n",
      "+------+----+---+-------+------+------------+\n",
      "\n",
      "+------+----+---+-------+------+--------------+\n",
      "|emp_id|name|age|dept_id|salary|      emp_info|\n",
      "+------+----+---+-------+------+--------------+\n",
      "|     1|   A| 34|      1| 50000|A - 34 - 50000|\n",
      "|     2|   B| 45|      2| 60000|B - 45 - 60000|\n",
      "|     3|   C| 29|      3| 55000|C - 29 - 55000|\n",
      "|     4|   D| 40|      1| 70000|D - 40 - 70000|\n",
      "|     5|   E| 31|      2| 48000|E - 31 - 48000|\n",
      "|     6|   F| 38|      3| 72000|F - 38 - 72000|\n",
      "+------+----+---+-------+------+--------------+\n",
      "\n"
     ]
    }
   ],
   "source": [
    "# Conditional Expressions\n",
    "df_emp.withColumn(\"salary_level\", when(col(\"salary\") >= 70000, \"High\")\n",
    "                                    .when(col(\"salary\") >= 55000, \"Medium\")\n",
    "                                    .otherwise(\"Low\")).show()\n",
    "\n",
    "# Concatenate employee details\n",
    "df_emp.withColumn(\"emp_info\", concat_ws(\" - \", col(\"name\"), col(\"age\"), col(\"salary\"))).show()\n"
   ]
  },
  {
   "cell_type": "code",
   "execution_count": 14,
   "metadata": {},
   "outputs": [
    {
     "name": "stdout",
     "output_type": "stream",
     "text": [
      "+------+----+---+-------+------+-------+---------+\n",
      "|emp_id|name|age|dept_id|salary|dept_id|dept_name|\n",
      "+------+----+---+-------+------+-------+---------+\n",
      "|     1|   A| 34|      1| 50000|      1|logistics|\n",
      "|     4|   D| 40|      1| 70000|      1|logistics|\n",
      "|     2|   B| 45|      2| 60000|      2| Accounts|\n",
      "|     5|   E| 31|      2| 48000|      2| Accounts|\n",
      "|     3|   C| 29|      3| 55000|      3|       DS|\n",
      "|     6|   F| 38|      3| 72000|      3|       DS|\n",
      "+------+----+---+-------+------+-------+---------+\n",
      "\n",
      "+------+----+---+-------+------+-------+---------+\n",
      "|emp_id|name|age|dept_id|salary|dept_id|dept_name|\n",
      "+------+----+---+-------+------+-------+---------+\n",
      "|     1|   A| 34|      1| 50000|      1|logistics|\n",
      "|     2|   B| 45|      2| 60000|      2| Accounts|\n",
      "|     3|   C| 29|      3| 55000|      3|       DS|\n",
      "|     4|   D| 40|      1| 70000|      1|logistics|\n",
      "|     5|   E| 31|      2| 48000|      2| Accounts|\n",
      "|     6|   F| 38|      3| 72000|      3|       DS|\n",
      "+------+----+---+-------+------+-------+---------+\n",
      "\n",
      "+------+----+----+-------+------+-------+---------+\n",
      "|emp_id|name| age|dept_id|salary|dept_id|dept_name|\n",
      "+------+----+----+-------+------+-------+---------+\n",
      "|     4|   D|  40|      1| 70000|      1|logistics|\n",
      "|     1|   A|  34|      1| 50000|      1|logistics|\n",
      "|     5|   E|  31|      2| 48000|      2| Accounts|\n",
      "|     2|   B|  45|      2| 60000|      2| Accounts|\n",
      "|     6|   F|  38|      3| 72000|      3|       DS|\n",
      "|     3|   C|  29|      3| 55000|      3|       DS|\n",
      "|  NULL|NULL|NULL|   NULL|  NULL|      4|Marketing|\n",
      "+------+----+----+-------+------+-------+---------+\n",
      "\n",
      "+------+----+----+-------+------+-------+---------+\n",
      "|emp_id|name| age|dept_id|salary|dept_id|dept_name|\n",
      "+------+----+----+-------+------+-------+---------+\n",
      "|     1|   A|  34|      1| 50000|      1|logistics|\n",
      "|     4|   D|  40|      1| 70000|      1|logistics|\n",
      "|     2|   B|  45|      2| 60000|      2| Accounts|\n",
      "|     5|   E|  31|      2| 48000|      2| Accounts|\n",
      "|     3|   C|  29|      3| 55000|      3|       DS|\n",
      "|     6|   F|  38|      3| 72000|      3|       DS|\n",
      "|  NULL|NULL|NULL|   NULL|  NULL|      4|Marketing|\n",
      "+------+----+----+-------+------+-------+---------+\n",
      "\n",
      "+------+----+---+-------+------+-------+---------+\n",
      "|emp_id|name|age|dept_id|salary|dept_id|dept_name|\n",
      "+------+----+---+-------+------+-------+---------+\n",
      "|     1|   A| 34|      1| 50000|      1|logistics|\n",
      "|     1|   A| 34|      1| 50000|      2| Accounts|\n",
      "|     1|   A| 34|      1| 50000|      3|       DS|\n",
      "|     1|   A| 34|      1| 50000|      4|Marketing|\n",
      "|     2|   B| 45|      2| 60000|      1|logistics|\n",
      "|     2|   B| 45|      2| 60000|      2| Accounts|\n",
      "|     2|   B| 45|      2| 60000|      3|       DS|\n",
      "|     2|   B| 45|      2| 60000|      4|Marketing|\n",
      "|     3|   C| 29|      3| 55000|      1|logistics|\n",
      "|     3|   C| 29|      3| 55000|      2| Accounts|\n",
      "+------+----+---+-------+------+-------+---------+\n",
      "only showing top 10 rows\n",
      "\n"
     ]
    }
   ],
   "source": [
    "#joins\n",
    "# Inner Join\n",
    "df_emp.join(df_dept, df_emp.dept_id == df_dept.dept_id, \"inner\").show()\n",
    "\n",
    "# Left Join\n",
    "df_emp.join(df_dept, df_emp.dept_id == df_dept.dept_id, \"left\").show()\n",
    "\n",
    "# Right Join\n",
    "df_emp.join(df_dept, df_emp.dept_id == df_dept.dept_id, \"right\").show()\n",
    "\n",
    "# Full Outer Join\n",
    "df_emp.join(df_dept, df_emp.dept_id == df_dept.dept_id, \"outer\").show()\n",
    "\n",
    "# Cross Join\n",
    "df_emp.crossJoin(df_dept).show(10)  # limiting to 10 rows for readability\n",
    "\n"
   ]
  },
  {
   "cell_type": "code",
   "execution_count": 15,
   "metadata": {},
   "outputs": [
    {
     "name": "stdout",
     "output_type": "stream",
     "text": [
      "+------+----+---+-------+------+------------+\n",
      "|emp_id|name|age|dept_id|salary|age_category|\n",
      "+------+----+---+-------+------+------------+\n",
      "|     1|   A| 34|      1| 50000|     Mid-age|\n",
      "|     2|   B| 45|      2| 60000|      Senior|\n",
      "|     3|   C| 29|      3| 55000|       Young|\n",
      "|     4|   D| 40|      1| 70000|      Senior|\n",
      "|     5|   E| 31|      2| 48000|     Mid-age|\n",
      "|     6|   F| 38|      3| 72000|     Mid-age|\n",
      "+------+----+---+-------+------+------------+\n",
      "\n"
     ]
    }
   ],
   "source": [
    "# UDF  Categorize employees by age\n",
    "def categorize_age(age):\n",
    "    if age < 30:\n",
    "        return \"Young\"\n",
    "    elif age < 40:\n",
    "        return \"Mid-age\"\n",
    "    else:\n",
    "        return \"Senior\"\n",
    "\n",
    "age_category_udf = udf(categorize_age, StringType())\n",
    "df_emp.withColumn(\"age_category\", age_category_udf(col(\"age\"))).show()\n"
   ]
  },
  {
   "cell_type": "code",
   "execution_count": 16,
   "metadata": {},
   "outputs": [
    {
     "name": "stdout",
     "output_type": "stream",
     "text": [
      "+------+----+---+-------+------+---------------+\n",
      "|emp_id|name|age|dept_id|salary|salary_category|\n",
      "+------+----+---+-------+------+---------------+\n",
      "|     1|   A| 34|      1| 50000|        Class A|\n",
      "|     2|   B| 45|      2| 60000|        Class B|\n",
      "|     3|   C| 29|      3| 55000|        Class B|\n",
      "|     4|   D| 40|      1| 70000|        Class B|\n",
      "|     5|   E| 31|      2| 48000|        Class A|\n",
      "|     6|   F| 38|      3| 72000|        Class B|\n",
      "+------+----+---+-------+------+---------------+\n",
      "\n"
     ]
    }
   ],
   "source": [
    "# UDF  Categorize employees by age\n",
    "def categorize_salary(salary):\n",
    "    if salary < 30000:\n",
    "        return \"Class C\"\n",
    "    elif salary > 50000:\n",
    "        return \"Class B\"\n",
    "    else:\n",
    "        return \"Class A\"\n",
    "\n",
    "salary_category_udf = udf(categorize_salary, StringType())\n",
    "df_emp.withColumn(\"salary_category\", salary_category_udf(col(\"salary\"))).show()\n"
   ]
  }
 ],
 "metadata": {
  "kernelspec": {
   "display_name": "Python 3",
   "language": "python",
   "name": "python3"
  },
  "language_info": {
   "codemirror_mode": {
    "name": "ipython",
    "version": 3
   },
   "file_extension": ".py",
   "mimetype": "text/x-python",
   "name": "python",
   "nbconvert_exporter": "python",
   "pygments_lexer": "ipython3",
   "version": "3.11.0"
  }
 },
 "nbformat": 4,
 "nbformat_minor": 4
}
