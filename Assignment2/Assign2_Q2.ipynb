{
 "cells": [
  {
   "cell_type": "markdown",
   "id": "cbf02ba6",
   "metadata": {},
   "source": [
    "Question 2\n",
    "Create the following tables as per cardinality:\n",
    "\n",
    "emp: eno, ename, gender, designation, city, salary, dno\n",
    "\n",
    "dept: dno, dname, location\n",
    "\n",
    "One department can have many employees.\n",
    "\n",
    "Insert 5 records and perform tasks below:"
   ]
  },
  {
   "cell_type": "code",
   "execution_count": 1,
   "id": "7e99d2bd",
   "metadata": {},
   "outputs": [],
   "source": [
    "import findspark\n",
    "findspark.init()\n",
    "import pandas as pd\n",
    "import pyspark\n",
    "from pyspark.sql import SparkSession\n",
    "from pyspark.sql.functions import col, lit, when, concat_ws, upper, lower, avg, sum, count, udf, max, min,concat_ws, upper, lower, length, substring, instr, trim, lpad, rpad\n",
    "from pyspark.sql.types import StringType, IntegerType, DoubleType\n"
   ]
  },
  {
   "cell_type": "code",
   "execution_count": 2,
   "id": "29b07c8a",
   "metadata": {},
   "outputs": [],
   "source": [
    "# Initialize Spark session\n",
    "spark = SparkSession.builder.appName(\"EmployeeDepartment\").getOrCreate()"
   ]
  },
  {
   "cell_type": "markdown",
   "id": "cebb73a8",
   "metadata": {},
   "source": [
    "1. Create emp and dept DataFrames."
   ]
  },
  {
   "cell_type": "code",
   "execution_count": 3,
   "id": "ba51afde",
   "metadata": {},
   "outputs": [],
   "source": [
    "emp_data = [\n",
    "    (1, 'Ravi', 'M', 'Manager', 'Pune', 50000, 1),\n",
    "    (2, 'Neha', 'F', 'Analyst', 'Pune', 30000, 1),\n",
    "    (3, 'Ayesha', 'F', 'Clerk', 'Nagpur', 18000, 2),\n",
    "    (4, 'Vijay', 'M', 'Analyst', 'Mumbai', 25000, 2),\n",
    "    (5, 'Tina', 'F', 'Clerk', 'Pune', 17000, 1)\n",
    "]\n",
    "\n",
    "emp_columns = ['eno', 'ename', 'gender', 'designation', 'city', 'salary', 'dno']\n",
    "emp = spark.createDataFrame(emp_data, emp_columns)\n",
    "\n",
    "dept_data = [\n",
    "    (1, 'HR', 'Pune'),\n",
    "    (2, 'Finance', 'Mumbai')\n",
    "]\n",
    "\n",
    "dept_columns = ['dno', 'dname', 'location']\n",
    "dept = spark.createDataFrame(dept_data, dept_columns)\n"
   ]
  },
  {
   "cell_type": "markdown",
   "id": "a3688637",
   "metadata": {},
   "source": [
    "Defines employee and department dataframes with relationship ‘one department-many employees’."
   ]
  },
  {
   "cell_type": "markdown",
   "id": "21b5bb64",
   "metadata": {},
   "source": [
    "2. Print schema for both dataframes."
   ]
  },
  {
   "cell_type": "code",
   "execution_count": 4,
   "id": "c43056ec",
   "metadata": {},
   "outputs": [
    {
     "name": "stdout",
     "output_type": "stream",
     "text": [
      "root\n",
      " |-- eno: long (nullable = true)\n",
      " |-- ename: string (nullable = true)\n",
      " |-- gender: string (nullable = true)\n",
      " |-- designation: string (nullable = true)\n",
      " |-- city: string (nullable = true)\n",
      " |-- salary: long (nullable = true)\n",
      " |-- dno: long (nullable = true)\n",
      "\n",
      "root\n",
      " |-- dno: long (nullable = true)\n",
      " |-- dname: string (nullable = true)\n",
      " |-- location: string (nullable = true)\n",
      "\n"
     ]
    }
   ],
   "source": [
    "emp.printSchema()\n",
    "dept.printSchema()\n"
   ]
  },
  {
   "cell_type": "markdown",
   "id": "e9bf11cf",
   "metadata": {},
   "source": [
    "Verifies each dataframe’s columns and data types."
   ]
  },
  {
   "cell_type": "markdown",
   "id": "fa4802db",
   "metadata": {},
   "source": [
    "3. Filter employees by designation ‘Analyst’ and salary > 20000."
   ]
  },
  {
   "cell_type": "code",
   "execution_count": 5,
   "id": "b2f1af6b",
   "metadata": {},
   "outputs": [
    {
     "name": "stdout",
     "output_type": "stream",
     "text": [
      "Employees with designation Analyst:\n",
      "+---+-----+------+-----------+------+------+---+\n",
      "|eno|ename|gender|designation|  city|salary|dno|\n",
      "+---+-----+------+-----------+------+------+---+\n",
      "|  2| Neha|     F|    Analyst|  Pune| 30000|  1|\n",
      "|  4|Vijay|     M|    Analyst|Mumbai| 25000|  2|\n",
      "+---+-----+------+-----------+------+------+---+\n",
      "\n",
      "Employees with salary > 20000:\n",
      "+---+-----+------+-----------+------+------+---+\n",
      "|eno|ename|gender|designation|  city|salary|dno|\n",
      "+---+-----+------+-----------+------+------+---+\n",
      "|  1| Ravi|     M|    Manager|  Pune| 50000|  1|\n",
      "|  2| Neha|     F|    Analyst|  Pune| 30000|  1|\n",
      "|  4|Vijay|     M|    Analyst|Mumbai| 25000|  2|\n",
      "+---+-----+------+-----------+------+------+---+\n",
      "\n"
     ]
    }
   ],
   "source": [
    "print(\"Employees with designation Analyst:\")\n",
    "emp.filter(col(\"designation\") == \"Analyst\").show()\n",
    "\n",
    "print(\"Employees with salary > 20000:\")\n",
    "emp.filter(col(\"salary\") > 20000).show()\n"
   ]
  },
  {
   "cell_type": "markdown",
   "id": "91017823",
   "metadata": {},
   "source": [
    "Filter queries help analyze subsets of employees for decision making."
   ]
  },
  {
   "cell_type": "markdown",
   "id": "672b834a",
   "metadata": {},
   "source": [
    "4. Show departments for female employees."
   ]
  },
  {
   "cell_type": "code",
   "execution_count": 6,
   "id": "8011a22a",
   "metadata": {},
   "outputs": [
    {
     "name": "stdout",
     "output_type": "stream",
     "text": [
      "+---+---+------+------+-----------+------+------+-------+--------+\n",
      "|dno|eno| ename|gender|designation|  city|salary|  dname|location|\n",
      "+---+---+------+------+-----------+------+------+-------+--------+\n",
      "|  1|  2|  Neha|     F|    Analyst|  Pune| 30000|     HR|    Pune|\n",
      "|  2|  3|Ayesha|     F|      Clerk|Nagpur| 18000|Finance|  Mumbai|\n",
      "|  1|  5|  Tina|     F|      Clerk|  Pune| 17000|     HR|    Pune|\n",
      "+---+---+------+------+-----------+------+------+-------+--------+\n",
      "\n"
     ]
    }
   ],
   "source": [
    "emp.filter(col(\"gender\") == \"F\").join(dept, \"dno\", \"left\").show()\n"
   ]
  },
  {
   "cell_type": "markdown",
   "id": "a4bc2e7f",
   "metadata": {},
   "source": [
    "Combines department data for female employees, useful for gender diversity reports."
   ]
  },
  {
   "cell_type": "markdown",
   "id": "cbfdd9aa",
   "metadata": {},
   "source": [
    "5. Show all employees grouped department-wise.\n",
    "python"
   ]
  },
  {
   "cell_type": "code",
   "execution_count": 7,
   "id": "3b5e9598",
   "metadata": {},
   "outputs": [
    {
     "name": "stdout",
     "output_type": "stream",
     "text": [
      "+---+---+------+------+-----------+------+------+-------+--------+\n",
      "|dno|eno| ename|gender|designation|  city|salary|  dname|location|\n",
      "+---+---+------+------+-----------+------+------+-------+--------+\n",
      "|  1|  1|  Ravi|     M|    Manager|  Pune| 50000|     HR|    Pune|\n",
      "|  1|  2|  Neha|     F|    Analyst|  Pune| 30000|     HR|    Pune|\n",
      "|  1|  5|  Tina|     F|      Clerk|  Pune| 17000|     HR|    Pune|\n",
      "|  2|  3|Ayesha|     F|      Clerk|Nagpur| 18000|Finance|  Mumbai|\n",
      "|  2|  4| Vijay|     M|    Analyst|Mumbai| 25000|Finance|  Mumbai|\n",
      "+---+---+------+------+-----------+------+------+-------+--------+\n",
      "\n"
     ]
    }
   ],
   "source": [
    "emp.join(dept, \"dno\").orderBy(\"dno\").show()\n"
   ]
  },
  {
   "cell_type": "markdown",
   "id": "d1d7422b",
   "metadata": {},
   "source": [
    "Lists employees with their departments organized for clarity."
   ]
  },
  {
   "cell_type": "markdown",
   "id": "956cabad",
   "metadata": {},
   "source": [
    "6. Calculate average salary per department."
   ]
  },
  {
   "cell_type": "code",
   "execution_count": 8,
   "id": "c83a9d37",
   "metadata": {},
   "outputs": [
    {
     "name": "stdout",
     "output_type": "stream",
     "text": [
      "+---+------------------+\n",
      "|dno|       avg(salary)|\n",
      "+---+------------------+\n",
      "|  1|32333.333333333332|\n",
      "|  2|           21500.0|\n",
      "+---+------------------+\n",
      "\n"
     ]
    }
   ],
   "source": [
    "emp.groupBy(\"dno\").avg(\"salary\").show()\n"
   ]
  },
  {
   "cell_type": "markdown",
   "id": "e1c9adc1",
   "metadata": {},
   "source": [
    "Helps understand compensation distribution across departments."
   ]
  },
  {
   "cell_type": "markdown",
   "id": "03642dbd",
   "metadata": {},
   "source": [
    "7. Count male employees per department."
   ]
  },
  {
   "cell_type": "code",
   "execution_count": 9,
   "id": "dbb260ad",
   "metadata": {},
   "outputs": [
    {
     "name": "stdout",
     "output_type": "stream",
     "text": [
      "+---+-----+\n",
      "|dno|count|\n",
      "+---+-----+\n",
      "|  1|    1|\n",
      "|  2|    1|\n",
      "+---+-----+\n",
      "\n"
     ]
    }
   ],
   "source": [
    "emp.filter(col(\"gender\") == \"M\").groupBy(\"dno\").count().show()\n"
   ]
  },
  {
   "cell_type": "markdown",
   "id": "75e73a88",
   "metadata": {},
   "source": [
    "Supports workforce demographic analysis."
   ]
  },
  {
   "cell_type": "markdown",
   "id": "64edac6c",
   "metadata": {},
   "source": [
    "8. List employees with salary less than 20000 and designation ‘Clerk’."
   ]
  },
  {
   "cell_type": "code",
   "execution_count": 10,
   "id": "7d6f7c21",
   "metadata": {},
   "outputs": [
    {
     "name": "stdout",
     "output_type": "stream",
     "text": [
      "+---+------+------+-----------+------+------+---+\n",
      "|eno| ename|gender|designation|  city|salary|dno|\n",
      "+---+------+------+-----------+------+------+---+\n",
      "|  3|Ayesha|     F|      Clerk|Nagpur| 18000|  2|\n",
      "|  5|  Tina|     F|      Clerk|  Pune| 17000|  1|\n",
      "+---+------+------+-----------+------+------+---+\n",
      "\n"
     ]
    }
   ],
   "source": [
    "emp.filter((col(\"salary\") < 20000) & (col(\"designation\") == \"Clerk\")).show()\n"
   ]
  },
  {
   "cell_type": "markdown",
   "id": "049b29e9",
   "metadata": {},
   "source": [
    "Targets specific salary and role-based employee filtering."
   ]
  },
  {
   "cell_type": "markdown",
   "id": "78e7c30f",
   "metadata": {},
   "source": [
    "9. Create UDF to classify salary level and display."
   ]
  },
  {
   "cell_type": "code",
   "execution_count": 11,
   "id": "951fd18d",
   "metadata": {},
   "outputs": [
    {
     "name": "stdout",
     "output_type": "stream",
     "text": [
      "+------+------+------------+\n",
      "| ename|salary|salary_level|\n",
      "+------+------+------------+\n",
      "|  Ravi| 50000|        High|\n",
      "|  Neha| 30000|      Medium|\n",
      "|Ayesha| 18000|         Low|\n",
      "| Vijay| 25000|      Medium|\n",
      "|  Tina| 17000|         Low|\n",
      "+------+------+------------+\n",
      "\n"
     ]
    }
   ],
   "source": [
    "def salary_level(sal):\n",
    "    if sal >= 40000:\n",
    "        return 'High'\n",
    "    elif sal >= 20000:\n",
    "        return 'Medium'\n",
    "    else:\n",
    "        return 'Low'\n",
    "\n",
    "salary_level_udf = udf(salary_level, StringType())\n",
    "emp_with_salary_level = emp.withColumn(\"salary_level\", salary_level_udf(col(\"salary\")))\n",
    "emp_with_salary_level.select(\"ename\", \"salary\", \"salary_level\").show()\n"
   ]
  },
  {
   "cell_type": "markdown",
   "id": "a323b1e5",
   "metadata": {},
   "source": [
    "Adds a new column classifying salaries for easy categorization."
   ]
  }
 ],
 "metadata": {
  "kernelspec": {
   "display_name": "Python 3",
   "language": "python",
   "name": "python3"
  },
  "language_info": {
   "codemirror_mode": {
    "name": "ipython",
    "version": 3
   },
   "file_extension": ".py",
   "mimetype": "text/x-python",
   "name": "python",
   "nbconvert_exporter": "python",
   "pygments_lexer": "ipython3",
   "version": "3.11.0"
  }
 },
 "nbformat": 4,
 "nbformat_minor": 5
}
