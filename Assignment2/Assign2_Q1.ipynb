{
 "cells": [
  {
   "cell_type": "markdown",
   "id": "62ad7dc3",
   "metadata": {},
   "source": [
    "Question 1\n",
    "Create the following tables as per cardinality:\n",
    "\n",
    "student: rollno, name, address, dob, gender, percentage, classid\n",
    "\n",
    "class: classid, classname\n",
    "\n",
    "One class can have many students.\n",
    "\n",
    "Insert 5 records in each dataframe and perform the following tasks:"
   ]
  },
  {
   "cell_type": "code",
   "execution_count": 11,
   "id": "f6e425c5",
   "metadata": {},
   "outputs": [],
   "source": [
    "import findspark\n",
    "findspark.init()\n",
    "import pandas as pd\n",
    "import pyspark\n",
    "from pyspark.sql import SparkSession\n",
    "from pyspark.sql.functions import col, lit, year, when, concat_ws, upper, lower, avg, sum, count, udf, max, min,concat_ws, upper, lower, length, substring, instr, trim, lpad, rpad\n",
    "from pyspark.sql.types import StringType, IntegerType, DoubleType\n"
   ]
  },
  {
   "cell_type": "code",
   "execution_count": 2,
   "id": "ddb9a19d",
   "metadata": {},
   "outputs": [],
   "source": [
    "# Initialize Spark session\n",
    "spark = SparkSession.builder.appName(\"Student_Class\").getOrCreate()"
   ]
  },
  {
   "cell_type": "code",
   "execution_count": 3,
   "id": "5b8a2147",
   "metadata": {},
   "outputs": [],
   "source": [
    "# Student data\n",
    "student_data = [\n",
    "    (1, 'Amit', 'Pune', '2002-04-10', 'M', 78, 101),\n",
    "    (2, 'Bhavna', 'Mumbai', '2001-08-15', 'F', 85, 101),\n",
    "    (3, 'Chetan', 'Nashik', '2003-09-09', 'M', 91, 102),\n",
    "    (4, 'Deepa', 'Pune', '2002-12-29', 'F', 68, 102),\n",
    "    (5, 'Esha', 'Nagpur', '2001-11-21', 'F', 72, 101)\n",
    "]\n",
    "\n",
    "student_columns = ['rollno', 'name', 'address', 'dob', 'gender', 'percentage', 'classid']\n",
    "student = spark.createDataFrame(student_data, student_columns)"
   ]
  },
  {
   "cell_type": "code",
   "execution_count": 4,
   "id": "bed5053c",
   "metadata": {},
   "outputs": [],
   "source": [
    "# Class data\n",
    "class_data = [\n",
    "    (101, 'FYBSc'),\n",
    "    (102, 'SYBSc')\n",
    "]\n",
    "\n",
    "class_columns = ['classid', 'classname']\n",
    "class_df = spark.createDataFrame(class_data, class_columns)"
   ]
  },
  {
   "cell_type": "markdown",
   "id": "160dc0c3",
   "metadata": {},
   "source": [
    "This creates two dataframes—students and classes—with appropriate columns and sample data, establishing the ‘one class to many students’ relationship."
   ]
  },
  {
   "cell_type": "markdown",
   "id": "70bb7467",
   "metadata": {},
   "source": [
    "2. Print the schema of both dataframes."
   ]
  },
  {
   "cell_type": "code",
   "execution_count": 5,
   "id": "653c5a5c",
   "metadata": {},
   "outputs": [
    {
     "name": "stdout",
     "output_type": "stream",
     "text": [
      "root\n",
      " |-- rollno: long (nullable = true)\n",
      " |-- name: string (nullable = true)\n",
      " |-- address: string (nullable = true)\n",
      " |-- dob: string (nullable = true)\n",
      " |-- gender: string (nullable = true)\n",
      " |-- percentage: long (nullable = true)\n",
      " |-- classid: long (nullable = true)\n",
      "\n",
      "root\n",
      " |-- classid: long (nullable = true)\n",
      " |-- classname: string (nullable = true)\n",
      "\n"
     ]
    }
   ],
   "source": [
    "student.printSchema()\n",
    "class_df.printSchema()"
   ]
  },
  {
   "cell_type": "code",
   "execution_count": 6,
   "id": "bd49b0ac",
   "metadata": {},
   "outputs": [
    {
     "name": "stdout",
     "output_type": "stream",
     "text": [
      "+------+------+-------+----------+------+----------+-------+\n",
      "|rollno|  name|address|       dob|gender|percentage|classid|\n",
      "+------+------+-------+----------+------+----------+-------+\n",
      "|     1|  Amit|   Pune|2002-04-10|     M|        78|    101|\n",
      "|     2|Bhavna| Mumbai|2001-08-15|     F|        85|    101|\n",
      "|     3|Chetan| Nashik|2003-09-09|     M|        91|    102|\n",
      "|     4| Deepa|   Pune|2002-12-29|     F|        68|    102|\n",
      "|     5|  Esha| Nagpur|2001-11-21|     F|        72|    101|\n",
      "+------+------+-------+----------+------+----------+-------+\n",
      "\n"
     ]
    }
   ],
   "source": [
    "student.show()"
   ]
  },
  {
   "cell_type": "code",
   "execution_count": 7,
   "id": "abff23ec",
   "metadata": {},
   "outputs": [
    {
     "name": "stdout",
     "output_type": "stream",
     "text": [
      "+-------+---------+\n",
      "|classid|classname|\n",
      "+-------+---------+\n",
      "|    101|    FYBSc|\n",
      "|    102|    SYBSc|\n",
      "+-------+---------+\n",
      "\n"
     ]
    }
   ],
   "source": [
    "class_df.show()"
   ]
  },
  {
   "cell_type": "markdown",
   "id": "38541860",
   "metadata": {},
   "source": [
    "Displays the structure and data types of each column allowing us to verify data correctness."
   ]
  },
  {
   "cell_type": "markdown",
   "id": "98b7b974",
   "metadata": {},
   "source": [
    "3.  Display student names with gender ‘M’ and ‘F’ separately."
   ]
  },
  {
   "cell_type": "code",
   "execution_count": 8,
   "id": "15a6b546",
   "metadata": {},
   "outputs": [
    {
     "name": "stdout",
     "output_type": "stream",
     "text": [
      "Male students:\n",
      "+------+\n",
      "|  name|\n",
      "+------+\n",
      "|  Amit|\n",
      "|Chetan|\n",
      "+------+\n",
      "\n",
      "Female students:\n",
      "+------+\n",
      "|  name|\n",
      "+------+\n",
      "|Bhavna|\n",
      "| Deepa|\n",
      "|  Esha|\n",
      "+------+\n",
      "\n"
     ]
    }
   ],
   "source": [
    "print(\"Male students:\")\n",
    "student.filter(col(\"gender\") == 'M').select(\"name\").show()\n",
    "\n",
    "print(\"Female students:\")\n",
    "student.filter(col(\"gender\") == 'F').select(\"name\").show()\n"
   ]
  },
  {
   "cell_type": "markdown",
   "id": "82b8ca4e",
   "metadata": {},
   "source": [
    "Filters allow us to analyze gender-based distribution of students."
   ]
  },
  {
   "cell_type": "markdown",
   "id": "c2856667",
   "metadata": {},
   "source": [
    "4. Display students of a particular class, e.g., classid = 101."
   ]
  },
  {
   "cell_type": "code",
   "execution_count": 9,
   "id": "9a9e4461",
   "metadata": {},
   "outputs": [
    {
     "name": "stdout",
     "output_type": "stream",
     "text": [
      "+------+------+-------+----------+------+----------+-------+\n",
      "|rollno|  name|address|       dob|gender|percentage|classid|\n",
      "+------+------+-------+----------+------+----------+-------+\n",
      "|     1|  Amit|   Pune|2002-04-10|     M|        78|    101|\n",
      "|     2|Bhavna| Mumbai|2001-08-15|     F|        85|    101|\n",
      "|     5|  Esha| Nagpur|2001-11-21|     F|        72|    101|\n",
      "+------+------+-------+----------+------+----------+-------+\n",
      "\n"
     ]
    }
   ],
   "source": [
    "student.filter(col(\"classid\") == 101).show()\n"
   ]
  },
  {
   "cell_type": "markdown",
   "id": "ec2e8923",
   "metadata": {},
   "source": [
    "Selects all students belonging to a specific class."
   ]
  },
  {
   "cell_type": "markdown",
   "id": "9a78c746",
   "metadata": {},
   "source": [
    "5. Calculate age from date of birth and show students aged 22 (assuming current year 2025)."
   ]
  },
  {
   "cell_type": "code",
   "execution_count": 12,
   "id": "b55e4164",
   "metadata": {},
   "outputs": [
    {
     "name": "stdout",
     "output_type": "stream",
     "text": [
      "+------+------+-------+----------+------+----------+-------+---+\n",
      "|rollno|  name|address|       dob|gender|percentage|classid|age|\n",
      "+------+------+-------+----------+------+----------+-------+---+\n",
      "|     3|Chetan| Nashik|2003-09-09|     M|        91|    102| 22|\n",
      "+------+------+-------+----------+------+----------+-------+---+\n",
      "\n"
     ]
    }
   ],
   "source": [
    "student_with_age = student.withColumn(\"age\", 2025 - year(col(\"dob\")))\n",
    "student_with_age.filter(col(\"age\") == 22).show()\n"
   ]
  },
  {
   "cell_type": "markdown",
   "id": "34ce3f08",
   "metadata": {},
   "source": [
    "Calculates age and filters students by age group for demographic insights."
   ]
  },
  {
   "cell_type": "markdown",
   "id": "a3d355c6",
   "metadata": {},
   "source": [
    "6. Show classnames associated with their students."
   ]
  },
  {
   "cell_type": "code",
   "execution_count": 13,
   "id": "befeba27",
   "metadata": {},
   "outputs": [
    {
     "name": "stdout",
     "output_type": "stream",
     "text": [
      "+---------+------+\n",
      "|classname|  name|\n",
      "+---------+------+\n",
      "|    FYBSc|  Amit|\n",
      "|    FYBSc|Bhavna|\n",
      "|    FYBSc|  Esha|\n",
      "|    SYBSc|Chetan|\n",
      "|    SYBSc| Deepa|\n",
      "+---------+------+\n",
      "\n"
     ]
    }
   ],
   "source": [
    "student.join(class_df, \"classid\").select(\"classname\", \"name\").show()\n"
   ]
  },
  {
   "cell_type": "markdown",
   "id": "9c36ec91",
   "metadata": {},
   "source": [
    "Joins tables to combine student and class information for comprehensive reporting."
   ]
  },
  {
   "cell_type": "markdown",
   "id": "ae078b84",
   "metadata": {},
   "source": [
    "7. Fetch data of students born in 2001."
   ]
  },
  {
   "cell_type": "code",
   "execution_count": 14,
   "id": "c6d060e5",
   "metadata": {},
   "outputs": [
    {
     "name": "stdout",
     "output_type": "stream",
     "text": [
      "+------+------+-------+----------+------+----------+-------+\n",
      "|rollno|  name|address|       dob|gender|percentage|classid|\n",
      "+------+------+-------+----------+------+----------+-------+\n",
      "|     2|Bhavna| Mumbai|2001-08-15|     F|        85|    101|\n",
      "|     5|  Esha| Nagpur|2001-11-21|     F|        72|    101|\n",
      "+------+------+-------+----------+------+----------+-------+\n",
      "\n"
     ]
    }
   ],
   "source": [
    "student.filter(year(col(\"dob\")) == 2001).show()\n"
   ]
  },
  {
   "cell_type": "markdown",
   "id": "50b8ba58",
   "metadata": {},
   "source": [
    "Filters students by birth year, useful for cohort analysis."
   ]
  },
  {
   "cell_type": "markdown",
   "id": "2b04805f",
   "metadata": {},
   "source": [
    "8. Create a UDF to assign letter grades based on percentage.\n",
    "python"
   ]
  },
  {
   "cell_type": "code",
   "execution_count": 15,
   "id": "a79f6a6a",
   "metadata": {},
   "outputs": [
    {
     "name": "stdout",
     "output_type": "stream",
     "text": [
      "+------+----------+-----+\n",
      "|  name|percentage|grade|\n",
      "+------+----------+-----+\n",
      "|  Amit|        78|    B|\n",
      "|Bhavna|        85|    A|\n",
      "|Chetan|        91|   A+|\n",
      "| Deepa|        68|    C|\n",
      "|  Esha|        72|    B|\n",
      "+------+----------+-----+\n",
      "\n"
     ]
    }
   ],
   "source": [
    "def grade(percentage):\n",
    "    if percentage >= 90:\n",
    "        return 'A+'\n",
    "    elif percentage >= 80:\n",
    "        return 'A'\n",
    "    elif percentage >= 70:\n",
    "        return 'B'\n",
    "    elif percentage >= 60:\n",
    "        return 'C'\n",
    "    else:\n",
    "        return 'D'\n",
    "\n",
    "grade_udf = udf(grade, StringType())\n",
    "student_with_grade = student.withColumn(\"grade\", grade_udf(col(\"percentage\")))\n",
    "student_with_grade.select(\"name\", \"percentage\", \"grade\").show()\n"
   ]
  },
  {
   "cell_type": "markdown",
   "id": "a94726a7",
   "metadata": {},
   "source": [
    "Adds a computed column ‘grade’ by categorizing percentages into letter grades."
   ]
  }
 ],
 "metadata": {
  "kernelspec": {
   "display_name": "Python 3",
   "language": "python",
   "name": "python3"
  },
  "language_info": {
   "codemirror_mode": {
    "name": "ipython",
    "version": 3
   },
   "file_extension": ".py",
   "mimetype": "text/x-python",
   "name": "python",
   "nbconvert_exporter": "python",
   "pygments_lexer": "ipython3",
   "version": "3.11.0"
  }
 },
 "nbformat": 4,
 "nbformat_minor": 5
}
